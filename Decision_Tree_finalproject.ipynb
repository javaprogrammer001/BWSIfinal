{
  "nbformat": 4,
  "nbformat_minor": 0,
  "metadata": {
    "colab": {
      "name": "Copy of Decision_Tree_finalproject",
      "provenance": [],
      "collapsed_sections": [],
      "include_colab_link": true
    },
    "kernelspec": {
      "name": "python3",
      "display_name": "Python 3"
    },
    "accelerator": "GPU"
  },
  "cells": [
    {
      "cell_type": "markdown",
      "metadata": {
        "id": "view-in-github",
        "colab_type": "text"
      },
      "source": [
        "<a href=\"https://colab.research.google.com/github/lingelizabeth/BWSIfinal/blob/master/Decision_Tree_finalproject.ipynb\" target=\"_parent\"><img src=\"https://colab.research.google.com/assets/colab-badge.svg\" alt=\"Open In Colab\"/></a>"
      ]
    },
    {
      "cell_type": "code",
      "metadata": {
        "id": "STtBCSudGfBw",
        "colab_type": "code",
        "outputId": "eea1ae4d-9aac-4b10-bd16-5aa68bf4a9b0",
        "colab": {
          "base_uri": "https://localhost:8080/",
          "height": 67
        }
      },
      "source": [
        "!pip install peakutils"
      ],
      "execution_count": 0,
      "outputs": [
        {
          "output_type": "stream",
          "text": [
            "Requirement already satisfied: peakutils in /usr/local/lib/python3.6/dist-packages (1.1.1)\r\n",
            "Requirement already satisfied: scipy in /usr/local/lib/python3.6/dist-packages (from peakutils) (0.19.1)\r\n",
            "Requirement already satisfied: numpy in /usr/local/lib/python3.6/dist-packages (from peakutils) (1.14.5)\r\n"
          ],
          "name": "stdout"
        }
      ]
    },
    {
      "cell_type": "code",
      "metadata": {
        "id": "sjgRtCYrioLD",
        "colab_type": "code",
        "outputId": "114b59ec-b79c-449c-c492-a0bd865af2a3",
        "colab": {
          "base_uri": "https://localhost:8080/",
          "height": 34
        }
      },
      "source": [
        "from scipy.io import *\n",
        "from google.colab import files\n",
        "import matplotlib.pyplot as plt\n",
        "import numpy as np\n",
        "import math\n",
        "import os\n",
        "import pandas as pd\n",
        "import random\n",
        "import peakutils\n",
        "from sklearn import metrics\n",
        "\n",
        "from sklearn.utils import shuffle\n",
        "from sklearn.model_selection import train_test_split\n",
        "import tensorflow as tf\n",
        "from scipy.interpolate import *\n",
        "from scipy.signal import *\n",
        "\n",
        "import keras\n",
        "from keras import optimizers\n",
        "from keras.layers import *\n",
        "from keras.models import *\n",
        "\n",
        "from sklearn.tree import DecisionTreeClassifier"
      ],
      "execution_count": 0,
      "outputs": [
        {
          "output_type": "stream",
          "text": [
            "Using TensorFlow backend.\n"
          ],
          "name": "stderr"
        }
      ]
    },
    {
      "cell_type": "code",
      "metadata": {
        "id": "HXhBceEdU2p3",
        "colab_type": "code",
        "colab": {}
      },
      "source": [
        "#tf.enable_eager_execution()"
      ],
      "execution_count": 0,
      "outputs": []
    },
    {
      "cell_type": "code",
      "metadata": {
        "id": "5iB7SzL-m1Uw",
        "colab_type": "code",
        "outputId": "da34798f-e406-49ef-d603-0f722ee24990",
        "colab": {
          "base_uri": "https://localhost:8080/",
          "height": 34
        }
      },
      "source": [
        "!git clone https://github.com/liua13/BWSIFinalProject\n",
        "os.chdir('./BWSIFinalProject')"
      ],
      "execution_count": 0,
      "outputs": [
        {
          "output_type": "stream",
          "text": [
            "fatal: destination path 'BWSIFinalProject' already exists and is not an empty directory.\r\n"
          ],
          "name": "stdout"
        }
      ]
    },
    {
      "cell_type": "code",
      "metadata": {
        "id": "5mfbL3lOy0BQ",
        "colab_type": "code",
        "outputId": "df29fa62-d298-4bed-b452-e0b5b5f7feca",
        "colab": {
          "base_uri": "https://localhost:8080/",
          "height": 195
        }
      },
      "source": [
        "labels = pd.read_csv(\"labels.csv\", names = ['name', 'class'])\n",
        "labels['class'] = labels['class'].replace('N', 0) # non af                \n",
        "labels['class'] = labels['class'].replace('A', 1) # af\n",
        "labels['class'] = labels['class'].replace('O', 2) # other      \n",
        "labels['class'] = labels['class'].replace('~', 3) # nois\n",
        "labels = labels.drop([\"name\"], axis=1)\n",
        "labels.head()"
      ],
      "execution_count": 0,
      "outputs": [
        {
          "output_type": "execute_result",
          "data": {
            "text/html": [
              "<div>\n",
              "<style scoped>\n",
              "    .dataframe tbody tr th:only-of-type {\n",
              "        vertical-align: middle;\n",
              "    }\n",
              "\n",
              "    .dataframe tbody tr th {\n",
              "        vertical-align: top;\n",
              "    }\n",
              "\n",
              "    .dataframe thead th {\n",
              "        text-align: right;\n",
              "    }\n",
              "</style>\n",
              "<table border=\"1\" class=\"dataframe\">\n",
              "  <thead>\n",
              "    <tr style=\"text-align: right;\">\n",
              "      <th></th>\n",
              "      <th>class</th>\n",
              "    </tr>\n",
              "  </thead>\n",
              "  <tbody>\n",
              "    <tr>\n",
              "      <th>0</th>\n",
              "      <td>0</td>\n",
              "    </tr>\n",
              "    <tr>\n",
              "      <th>1</th>\n",
              "      <td>0</td>\n",
              "    </tr>\n",
              "    <tr>\n",
              "      <th>2</th>\n",
              "      <td>0</td>\n",
              "    </tr>\n",
              "    <tr>\n",
              "      <th>3</th>\n",
              "      <td>1</td>\n",
              "    </tr>\n",
              "    <tr>\n",
              "      <th>4</th>\n",
              "      <td>1</td>\n",
              "    </tr>\n",
              "  </tbody>\n",
              "</table>\n",
              "</div>"
            ],
            "text/plain": [
              "   class\n",
              "0      0\n",
              "1      0\n",
              "2      0\n",
              "3      1\n",
              "4      1"
            ]
          },
          "metadata": {
            "tags": []
          },
          "execution_count": 5
        }
      ]
    },
    {
      "cell_type": "code",
      "metadata": {
        "id": "Prqm5qEsvCpA",
        "colab_type": "code",
        "outputId": "89ad930c-106c-41c5-fab1-2da92b6b9185",
        "colab": {
          "base_uri": "https://localhost:8080/",
          "height": 195
        }
      },
      "source": [
        "df  = pd.read_csv('allrecords.csv', names = ['record name', 'signals', 'frequency', 'sample number', 'date','time','filename', 'format', 'baseline','adc', 'zeroes', 'initial value','check','block','description', 'NaNs'])\n",
        "df = df.drop(['signals', 'frequency', 'format', 'baseline', 'filename', 'adc', 'zeroes', 'check', 'block', 'description', 'NaNs'], axis=1)\n",
        "df['labels'] = labels['class']\n",
        "df.head()"
      ],
      "execution_count": 0,
      "outputs": [
        {
          "output_type": "execute_result",
          "data": {
            "text/html": [
              "<div>\n",
              "<style scoped>\n",
              "    .dataframe tbody tr th:only-of-type {\n",
              "        vertical-align: middle;\n",
              "    }\n",
              "\n",
              "    .dataframe tbody tr th {\n",
              "        vertical-align: top;\n",
              "    }\n",
              "\n",
              "    .dataframe thead th {\n",
              "        text-align: right;\n",
              "    }\n",
              "</style>\n",
              "<table border=\"1\" class=\"dataframe\">\n",
              "  <thead>\n",
              "    <tr style=\"text-align: right;\">\n",
              "      <th></th>\n",
              "      <th>record name</th>\n",
              "      <th>sample number</th>\n",
              "      <th>date</th>\n",
              "      <th>time</th>\n",
              "      <th>initial value</th>\n",
              "      <th>labels</th>\n",
              "    </tr>\n",
              "  </thead>\n",
              "  <tbody>\n",
              "    <tr>\n",
              "      <th>0</th>\n",
              "      <td>A00001</td>\n",
              "      <td>9000</td>\n",
              "      <td>2014-05-08</td>\n",
              "      <td>05:05:15</td>\n",
              "      <td>-127</td>\n",
              "      <td>0</td>\n",
              "    </tr>\n",
              "    <tr>\n",
              "      <th>1</th>\n",
              "      <td>A00002</td>\n",
              "      <td>9000</td>\n",
              "      <td>2014-05-16</td>\n",
              "      <td>11:05:25</td>\n",
              "      <td>128</td>\n",
              "      <td>0</td>\n",
              "    </tr>\n",
              "    <tr>\n",
              "      <th>2</th>\n",
              "      <td>A00003</td>\n",
              "      <td>18000</td>\n",
              "      <td>2014-04-15</td>\n",
              "      <td>12:04:05</td>\n",
              "      <td>56</td>\n",
              "      <td>0</td>\n",
              "    </tr>\n",
              "    <tr>\n",
              "      <th>3</th>\n",
              "      <td>A00004</td>\n",
              "      <td>9000</td>\n",
              "      <td>2014-05-01</td>\n",
              "      <td>11:05:48</td>\n",
              "      <td>519</td>\n",
              "      <td>1</td>\n",
              "    </tr>\n",
              "    <tr>\n",
              "      <th>4</th>\n",
              "      <td>A00005</td>\n",
              "      <td>18000</td>\n",
              "      <td>2013-12-23</td>\n",
              "      <td>08:12:08</td>\n",
              "      <td>-188</td>\n",
              "      <td>1</td>\n",
              "    </tr>\n",
              "  </tbody>\n",
              "</table>\n",
              "</div>"
            ],
            "text/plain": [
              "  record name  sample number        date      time  initial value  labels\n",
              "0      A00001           9000  2014-05-08  05:05:15           -127       0\n",
              "1      A00002           9000  2014-05-16  11:05:25            128       0\n",
              "2      A00003          18000  2014-04-15  12:04:05             56       0\n",
              "3      A00004           9000  2014-05-01  11:05:48            519       1\n",
              "4      A00005          18000  2013-12-23  08:12:08           -188       1"
            ]
          },
          "metadata": {
            "tags": []
          },
          "execution_count": 6
        }
      ]
    },
    {
      "cell_type": "code",
      "metadata": {
        "id": "fRFaF_TQVAXu",
        "colab_type": "code",
        "colab": {}
      },
      "source": [
        "def get_sample_data(i):\n",
        "    file = \"./train\" + str(int(i/1000+1)) + \"/\" + df.loc[i, \"record name\"] + '.mat'\n",
        "    sample = loadmat('./' + file)[\"val\"]\n",
        "    a, b = butter(5, .05, 'highpass')\n",
        "    signal = filtfilt(a, b, sample)\n",
        "    \"\"\" sample and file.split('/')[2] same as get_random_data() output \"\"\"\n",
        "    return signal\n",
        "  \n",
        "def get_fft_signals(sample):\n",
        "    num_datapoints = len(sample['Signal'][0])\n",
        "    fft_signals_x = np.arange(num_datapoints//2 + 1)/60\n",
        "    fft_signals_y = np.ndarray(shape = (7, num_datapoints//2 + 1))\n",
        "    for counter, signal in enumerate(np.fft.rfft(np.transpose(sample['Signal'][0]))):\n",
        "        fft_signals_y[counter] = np.abs(signal)\n",
        "    \"\"\" tuple: fft_signals_x (ndarray) stores fft signal frequencies in hertz; fft_signals_y (ndarray) stores amplitude for every frequency; 'FFT' stores signal type \"\"\"\n",
        "    return (fft_signals_x, fft_signals_y, 'FFT')\n",
        "  \n",
        "def get_signals(sample):\n",
        "    raw_signals = get_raw_signals(sample)\n",
        "    fft_signals = get_fft_signals(sample)\n",
        "    \"\"\" raw_signals and fft_signals same as get_raw_signals() and get_fft_signals() output, respectively \"\"\"\n",
        "    return raw_signals, fft_signals"
      ],
      "execution_count": 0,
      "outputs": []
    },
    {
      "cell_type": "code",
      "metadata": {
        "id": "SHqlvrAfBpE3",
        "colab_type": "code",
        "colab": {}
      },
      "source": [
        "def calc_rr(signal):\n",
        "    '''Calculates the R-R (peak-peak) data required for further analysis.\n",
        "    Uses calculated measures stored in the working_data{} dict to calculate\n",
        "    all required peak-peak datasets. Stores results in the working_data{} dict.\n",
        "    Keyword arguments:\n",
        "    sample_rate -- the sample rate of the data set\n",
        "    '''\n",
        "    #peaklist = np.array(working_data['peaklist'])\n",
        "    peaklist = peakutils.indexes(signal[0], thres = .5)\n",
        "    sample_rate = 300.\n",
        "    #delete first peak if within first 150ms (signal might start mid-beat after peak)\n",
        "    #if len(peaklist) > 0:\n",
        "    #    if peaklist[0] <= ((sample_rate / 1000.0) * 150):\n",
        "    #        peaklist = np.delete(peaklist, 0)\n",
        "            #working_data['peaklist'] = peaklist\n",
        "            #working_data['ybeat'] = np.delete(working_data['ybeat'], 0)\n",
        "\n",
        "    rr_list = (np.diff(peaklist) / sample_rate) * 1000.0\n",
        "    rr_diff = np.abs(np.diff(rr_list))\n",
        "    rr_sqdiff = np.power(rr_diff, 2)\n",
        "    return rr_diff#rr_list\n",
        "\n",
        "def get_periodicity(signal):\n",
        "  return np.var(calc_rr(signal))\n",
        "\n",
        "def calc_RMSSD(rr_list):\n",
        "  N = len(rr_list)\n",
        "  sum_sq = sum([i**2 for i in rr_list])\n",
        "  frac = 1/float(N-1)\n",
        "  return (frac*sum_sq)**.5"
      ],
      "execution_count": 0,
      "outputs": []
    },
    {
      "cell_type": "code",
      "metadata": {
        "id": "NWZIcELJ5Aeu",
        "colab_type": "code",
        "colab": {}
      },
      "source": [
        "def get_bar_fft(signal): #bar version of fft\n",
        "  L = len(signal)\n",
        "  fft = np.fft.rfft(signal)[:1000]\n",
        "  Fs = 300\n",
        "  t = np.arange(L/2 +1)/(L/Fs) \n",
        "  barx=np.linspace(0, 1000, 20) #only does the first 1000 in the fft\n",
        "                                #returns 21 numbers\n",
        "  bary = np.zeros(shape=barx.shape)\n",
        "\n",
        "  for x in range(len(barx)-1):\n",
        "    bary[x] = sum(abs(fft[int(barx[x]):int(barx[x+1])]))\n",
        "\n",
        "  #bary = bary/sum(bary)\n",
        "  return bary"
      ],
      "execution_count": 0,
      "outputs": []
    },
    {
      "cell_type": "code",
      "metadata": {
        "id": "XZ78kFiEV6yy",
        "colab_type": "code",
        "colab": {}
      },
      "source": [
        "def get_variance(signals, frame, interval):\n",
        "    partial_array = np.ndarray(shape = (signals.shape[0], (signals.shape[1]-frame)//interval+1))\n",
        "    for signal_index, signal in enumerate(signals):\n",
        "        for partial_index in range((len(signal)-frame)//interval+1):\n",
        "            \n",
        "            \"\"\" Change feature extraction here \"\"\"\n",
        "            partial_array[signal_index][partial_index] = np.var(signal[(interval*partial_index):(interval*partial_index)+frame])\n",
        "     \n",
        "    \"\"\" partial_array (ndarray) stores multiple features for each signal\"\"\"\n",
        "    return partial_array\n",
        "  \n",
        "def consolidate(signals):\n",
        "    total_array = np.ndarray(shape = (signals.shape[0], 1))\n",
        "    for signal_index, signal in enumerate(signals):\n",
        "        \n",
        "        \"\"\" Change feature extraction here \"\"\"\n",
        "        if np.sum(signal)>0:\n",
        "            total_array[signal_index] = int(np.max(signal)/np.sum(signal)*100)\n",
        "        else:\n",
        "            total_array[signal_index] = 0\n",
        "            \n",
        "    \"\"\" total_array (ndarray) stores single feature for each signal \"\"\"\n",
        "    return total_array\n",
        "  \n",
        "def get_features(start, end):\n",
        "    features = np.array([])\n",
        "    for i in range(start, end):\n",
        "        sample = get_sample_data(i)/1000.\n",
        "        f1 = consolidate(get_variance(sample, 200, 200))\n",
        "        f2 = get_periodicity(sample)\n",
        "        f3 = get_bar_fft(np.array(sample)[0])\n",
        "        feature_array = np.concatenate((f1[0].flatten(), [f2], f3.flatten()))\n",
        "        features = np.append(features, feature_array)#np.hstack((f1[0][0], f2)))\n",
        "    \"\"\" np.transpose(features) (ndarray) stores final features for training/testing; order (ndarray) stores order in which samples were retrieved \"\"\"\n",
        "    return np.transpose(features)"
      ],
      "execution_count": 0,
      "outputs": []
    },
    {
      "cell_type": "code",
      "metadata": {
        "id": "4EKu-GphS-E5",
        "colab_type": "code",
        "outputId": "931a159e-9cb6-471c-dfea-75db08c88531",
        "colab": {
          "base_uri": "https://localhost:8080/",
          "height": 118
        }
      },
      "source": [
        "temp_data = get_features(0, 8000)\n",
        "test_data = get_features(8000, 8528)\n",
        "\n",
        "#labels = tf.keras.utils.to_categorical(labels)\n",
        "temp_labels = labels[:8000]\n",
        "test_labels = labels[8000:8528]\n",
        "\n",
        "temp_shape = 8000, int(temp_data.shape[0]/8000), 1\n",
        "test_shape = 528, int(test_data.shape[0]/528), 1\n",
        "\n",
        "temp_data = temp_data.reshape(temp_shape)\n",
        "test_data = test_data.reshape(test_shape)\n",
        "\n",
        "train_data, val_data, train_labels, val_labels = train_test_split(temp_data, temp_labels, test_size = 0.25)"
      ],
      "execution_count": 0,
      "outputs": [
        {
          "output_type": "stream",
          "text": [
            "/usr/local/lib/python3.6/dist-packages/numpy/core/fromnumeric.py:3194: RuntimeWarning: Degrees of freedom <= 0 for slice\n",
            "  **kwargs)\n",
            "/usr/local/lib/python3.6/dist-packages/numpy/core/_methods.py:105: RuntimeWarning: invalid value encountered in true_divide\n",
            "  arrmean, rcount, out=arrmean, casting='unsafe', subok=False)\n",
            "/usr/local/lib/python3.6/dist-packages/numpy/core/_methods.py:127: RuntimeWarning: invalid value encountered in double_scalars\n",
            "  ret = ret.dtype.type(ret / rcount)\n"
          ],
          "name": "stderr"
        }
      ]
    },
    {
      "cell_type": "code",
      "metadata": {
        "id": "E1knInWSwYvy",
        "colab_type": "code",
        "colab": {}
      },
      "source": [
        "train_data = train_data.reshape(6000,22)"
      ],
      "execution_count": 0,
      "outputs": []
    },
    {
      "cell_type": "code",
      "metadata": {
        "id": "1dKu2ukM1Pqj",
        "colab_type": "code",
        "colab": {}
      },
      "source": [
        "val_data = val_data.astype('float32')\n",
        "val_data = val_data.reshape((2000, 22))"
      ],
      "execution_count": 0,
      "outputs": []
    },
    {
      "cell_type": "code",
      "metadata": {
        "id": "kNRxAXJ91r0F",
        "colab_type": "code",
        "outputId": "eb9c8c69-8f00-40a6-e7fb-d8da917ad1f0",
        "colab": {
          "base_uri": "https://localhost:8080/",
          "height": 50
        }
      },
      "source": [
        "print(train_data.shape, train_labels.shape)\n",
        "print(val_data.shape)"
      ],
      "execution_count": 0,
      "outputs": [
        {
          "output_type": "stream",
          "text": [
            "(6000, 22) (6000, 1)\n",
            "(2000, 22, 1)\n"
          ],
          "name": "stdout"
        }
      ]
    },
    {
      "cell_type": "code",
      "metadata": {
        "id": "KYtoDRu4ydNx",
        "colab_type": "code",
        "colab": {}
      },
      "source": [
        "from sklearn import tree\n",
        "clf = tree.DecisionTreeClassifier(criterion='gini', max_depth = 100)\n",
        "for i in range(len(train_data)):\n",
        "  train_data[i] = np.nan_to_num(train_data[i])     \n",
        "for i in range(len(val_data)):\n",
        "  val_data[i] = np.nan_to_num(val_data[i])  \n",
        "clf = clf.fit(train_data, train_labels)\n",
        "y_pred_dt = clf.predict(val_data)"
      ],
      "execution_count": 0,
      "outputs": []
    },
    {
      "cell_type": "code",
      "metadata": {
        "id": "bnBjrH5f1bdW",
        "colab_type": "code",
        "outputId": "12791047-b80e-4108-c7cd-b70142856eed",
        "colab": {
          "base_uri": "https://localhost:8080/",
          "height": 134
        }
      },
      "source": [
        "from sklearn.metrics import accuracy_score\n",
        "print(accuracy_score(val_labels, y_pred_dt))\n",
        "print(metrics.confusion_matrix(y_pred_dt, val_labels))\n",
        "print(y_pred_dt)\n",
        "print(np.unique(y_pred_dt, return_counts=True))"
      ],
      "execution_count": 0,
      "outputs": [
        {
          "output_type": "stream",
          "text": [
            "0.516\n",
            "[[776 105 279  24]\n",
            " [ 92  31  60   4]\n",
            " [288  53 201  25]\n",
            " [ 21   5  12  24]]\n",
            "[0 0 2 ... 2 2 2]\n",
            "(array([0, 1, 2, 3]), array([1184,  187,  567,   62]))\n"
          ],
          "name": "stdout"
        }
      ]
    },
    {
      "cell_type": "code",
      "metadata": {
        "id": "XC-uwnF7Z_HM",
        "colab_type": "code",
        "outputId": "8adc113b-171f-4697-e454-7cd4b6d38260",
        "colab": {
          "base_uri": "https://localhost:8080/",
          "height": 248
        }
      },
      "source": [
        "model = []\n",
        "model = Sequential()\n",
        "\n",
        "model.add(Conv1D(256, activation=tf.nn.relu, kernel_size=2, input_shape=(23, 1)))\n",
        "#model.add(Conv1D(128, activation=tf.nn.relu, kernel_size=2,))\n",
        "#model.add(Conv1D(64, activation=tf.nn.tanh, kernel_size=2,))\n",
        "\n",
        "model.add(Flatten())\n",
        "model.add(Dense(4, activation=tf.nn.softmax))\n",
        "\n",
        "model.summary()"
      ],
      "execution_count": 0,
      "outputs": [
        {
          "output_type": "stream",
          "text": [
            "_________________________________________________________________\n",
            "Layer (type)                 Output Shape              Param #   \n",
            "=================================================================\n",
            "conv1d_8 (Conv1D)            (None, 22, 256)           768       \n",
            "_________________________________________________________________\n",
            "flatten_4 (Flatten)          (None, 5632)              0         \n",
            "_________________________________________________________________\n",
            "dense_4 (Dense)              (None, 4)                 22532     \n",
            "=================================================================\n",
            "Total params: 23,300\n",
            "Trainable params: 23,300\n",
            "Non-trainable params: 0\n",
            "_________________________________________________________________\n"
          ],
          "name": "stdout"
        }
      ]
    },
    {
      "cell_type": "code",
      "metadata": {
        "id": "J01RB4Q5ul1H",
        "colab_type": "code",
        "colab": {}
      },
      "source": [
        "model.compile(loss='mse', optimizer=keras.optimizers.SGD(lr=0.01), metrics=['accuracy'])"
      ],
      "execution_count": 0,
      "outputs": []
    },
    {
      "cell_type": "code",
      "metadata": {
        "id": "0BLFdj6tnsv0",
        "colab_type": "code",
        "outputId": "4d9c6461-a28e-47fd-e326-77986e2c6ca3",
        "colab": {
          "base_uri": "https://localhost:8080/",
          "height": 686
        }
      },
      "source": [
        "y = model.fit(train_data, train_labels, epochs=50, validation_data=(val_data, val_labels))"
      ],
      "execution_count": 0,
      "outputs": [
        {
          "output_type": "error",
          "ename": "ValueError",
          "evalue": "ignored",
          "traceback": [
            "\u001b[0;31m---------------------------------------------------------------------------\u001b[0m",
            "\u001b[0;31mValueError\u001b[0m                                Traceback (most recent call last)",
            "\u001b[0;32m<ipython-input-70-9ca4fa246047>\u001b[0m in \u001b[0;36m<module>\u001b[0;34m()\u001b[0m\n\u001b[0;32m----> 1\u001b[0;31m \u001b[0my\u001b[0m \u001b[0;34m=\u001b[0m \u001b[0mmodel\u001b[0m\u001b[0;34m.\u001b[0m\u001b[0mfit\u001b[0m\u001b[0;34m(\u001b[0m\u001b[0mtrain_data\u001b[0m\u001b[0;34m,\u001b[0m \u001b[0mtrain_labels\u001b[0m\u001b[0;34m,\u001b[0m \u001b[0mepochs\u001b[0m\u001b[0;34m=\u001b[0m\u001b[0;36m50\u001b[0m\u001b[0;34m,\u001b[0m \u001b[0mvalidation_data\u001b[0m\u001b[0;34m=\u001b[0m\u001b[0;34m(\u001b[0m\u001b[0mval_data\u001b[0m\u001b[0;34m,\u001b[0m \u001b[0mval_labels\u001b[0m\u001b[0;34m)\u001b[0m\u001b[0;34m)\u001b[0m\u001b[0;34m\u001b[0m\u001b[0m\n\u001b[0m",
            "\u001b[0;32m/usr/local/lib/python3.6/dist-packages/keras/models.py\u001b[0m in \u001b[0;36mfit\u001b[0;34m(self, x, y, batch_size, epochs, verbose, callbacks, validation_split, validation_data, shuffle, class_weight, sample_weight, initial_epoch, steps_per_epoch, validation_steps, **kwargs)\u001b[0m\n\u001b[1;32m   1000\u001b[0m                               \u001b[0minitial_epoch\u001b[0m\u001b[0;34m=\u001b[0m\u001b[0minitial_epoch\u001b[0m\u001b[0;34m,\u001b[0m\u001b[0;34m\u001b[0m\u001b[0m\n\u001b[1;32m   1001\u001b[0m                               \u001b[0msteps_per_epoch\u001b[0m\u001b[0;34m=\u001b[0m\u001b[0msteps_per_epoch\u001b[0m\u001b[0;34m,\u001b[0m\u001b[0;34m\u001b[0m\u001b[0m\n\u001b[0;32m-> 1002\u001b[0;31m                               validation_steps=validation_steps)\n\u001b[0m\u001b[1;32m   1003\u001b[0m \u001b[0;34m\u001b[0m\u001b[0m\n\u001b[1;32m   1004\u001b[0m     def evaluate(self, x=None, y=None,\n",
            "\u001b[0;32m/usr/local/lib/python3.6/dist-packages/keras/engine/training.py\u001b[0m in \u001b[0;36mfit\u001b[0;34m(self, x, y, batch_size, epochs, verbose, callbacks, validation_split, validation_data, shuffle, class_weight, sample_weight, initial_epoch, steps_per_epoch, validation_steps, **kwargs)\u001b[0m\n\u001b[1;32m   1628\u001b[0m             \u001b[0msample_weight\u001b[0m\u001b[0;34m=\u001b[0m\u001b[0msample_weight\u001b[0m\u001b[0;34m,\u001b[0m\u001b[0;34m\u001b[0m\u001b[0m\n\u001b[1;32m   1629\u001b[0m             \u001b[0mclass_weight\u001b[0m\u001b[0;34m=\u001b[0m\u001b[0mclass_weight\u001b[0m\u001b[0;34m,\u001b[0m\u001b[0;34m\u001b[0m\u001b[0m\n\u001b[0;32m-> 1630\u001b[0;31m             batch_size=batch_size)\n\u001b[0m\u001b[1;32m   1631\u001b[0m         \u001b[0;31m# Prepare validation data.\u001b[0m\u001b[0;34m\u001b[0m\u001b[0;34m\u001b[0m\u001b[0m\n\u001b[1;32m   1632\u001b[0m         \u001b[0mdo_validation\u001b[0m \u001b[0;34m=\u001b[0m \u001b[0;32mFalse\u001b[0m\u001b[0;34m\u001b[0m\u001b[0m\n",
            "\u001b[0;32m/usr/local/lib/python3.6/dist-packages/keras/engine/training.py\u001b[0m in \u001b[0;36m_standardize_user_data\u001b[0;34m(self, x, y, sample_weight, class_weight, check_array_lengths, batch_size)\u001b[0m\n\u001b[1;32m   1474\u001b[0m                                     \u001b[0mself\u001b[0m\u001b[0;34m.\u001b[0m\u001b[0m_feed_input_shapes\u001b[0m\u001b[0;34m,\u001b[0m\u001b[0;34m\u001b[0m\u001b[0m\n\u001b[1;32m   1475\u001b[0m                                     \u001b[0mcheck_batch_axis\u001b[0m\u001b[0;34m=\u001b[0m\u001b[0;32mFalse\u001b[0m\u001b[0;34m,\u001b[0m\u001b[0;34m\u001b[0m\u001b[0m\n\u001b[0;32m-> 1476\u001b[0;31m                                     exception_prefix='input')\n\u001b[0m\u001b[1;32m   1477\u001b[0m         y = _standardize_input_data(y, self._feed_output_names,\n\u001b[1;32m   1478\u001b[0m                                     \u001b[0moutput_shapes\u001b[0m\u001b[0;34m,\u001b[0m\u001b[0;34m\u001b[0m\u001b[0m\n",
            "\u001b[0;32m/usr/local/lib/python3.6/dist-packages/keras/engine/training.py\u001b[0m in \u001b[0;36m_standardize_input_data\u001b[0;34m(data, names, shapes, check_batch_axis, exception_prefix)\u001b[0m\n\u001b[1;32m    111\u001b[0m                         \u001b[0;34m': expected '\u001b[0m \u001b[0;34m+\u001b[0m \u001b[0mnames\u001b[0m\u001b[0;34m[\u001b[0m\u001b[0mi\u001b[0m\u001b[0;34m]\u001b[0m \u001b[0;34m+\u001b[0m \u001b[0;34m' to have '\u001b[0m \u001b[0;34m+\u001b[0m\u001b[0;34m\u001b[0m\u001b[0m\n\u001b[1;32m    112\u001b[0m                         \u001b[0mstr\u001b[0m\u001b[0;34m(\u001b[0m\u001b[0mlen\u001b[0m\u001b[0;34m(\u001b[0m\u001b[0mshape\u001b[0m\u001b[0;34m)\u001b[0m\u001b[0;34m)\u001b[0m \u001b[0;34m+\u001b[0m \u001b[0;34m' dimensions, but got array '\u001b[0m\u001b[0;34m\u001b[0m\u001b[0m\n\u001b[0;32m--> 113\u001b[0;31m                         'with shape ' + str(data_shape))\n\u001b[0m\u001b[1;32m    114\u001b[0m                 \u001b[0;32mif\u001b[0m \u001b[0;32mnot\u001b[0m \u001b[0mcheck_batch_axis\u001b[0m\u001b[0;34m:\u001b[0m\u001b[0;34m\u001b[0m\u001b[0m\n\u001b[1;32m    115\u001b[0m                     \u001b[0mdata_shape\u001b[0m \u001b[0;34m=\u001b[0m \u001b[0mdata_shape\u001b[0m\u001b[0;34m[\u001b[0m\u001b[0;36m1\u001b[0m\u001b[0;34m:\u001b[0m\u001b[0;34m]\u001b[0m\u001b[0;34m\u001b[0m\u001b[0m\n",
            "\u001b[0;31mValueError\u001b[0m: Error when checking input: expected conv1d_8_input to have 3 dimensions, but got array with shape (6000, 23)"
          ]
        }
      ]
    },
    {
      "cell_type": "code",
      "metadata": {
        "id": "T8ufnm0eTgAM",
        "colab_type": "code",
        "colab": {}
      },
      "source": [
        "val_pred_labels = model.predict(val_data)"
      ],
      "execution_count": 0,
      "outputs": []
    },
    {
      "cell_type": "code",
      "metadata": {
        "id": "2SXz6P4FmlQM",
        "colab_type": "code",
        "outputId": "9c1c999b-78fa-4f57-faff-d8e1dd6e5852",
        "colab": {
          "base_uri": "https://localhost:8080/",
          "height": 88
        }
      },
      "source": [
        "metrics.confusion_matrix(np.argmax(val_pred_labels, axis=1), np.argmax(val_labels, axis=1))"
      ],
      "execution_count": 0,
      "outputs": [
        {
          "output_type": "execute_result",
          "data": {
            "text/plain": [
              "array([[1165,  185,  580,   70],\n",
              "       [   0,    0,    0,    0],\n",
              "       [   0,    0,    0,    0],\n",
              "       [   0,    0,    0,    0]])"
            ]
          },
          "metadata": {
            "tags": []
          },
          "execution_count": 43
        }
      ]
    },
    {
      "cell_type": "code",
      "metadata": {
        "id": "0B9Jr1qflKxJ",
        "colab_type": "code",
        "colab": {}
      },
      "source": [
        "test_pred_labels = model.predict(test_data)"
      ],
      "execution_count": 0,
      "outputs": []
    },
    {
      "cell_type": "code",
      "metadata": {
        "id": "oTsGqC42lPin",
        "colab_type": "code",
        "outputId": "460abf8d-306c-457d-ea0f-8f95ccda091c",
        "colab": {
          "base_uri": "https://localhost:8080/",
          "height": 88
        }
      },
      "source": [
        "metrics.confusion_matrix(np.argmax(test_pred_labels, axis=1), np.argmax(test_labels, axis=1))"
      ],
      "execution_count": 0,
      "outputs": [
        {
          "output_type": "execute_result",
          "data": {
            "text/plain": [
              "array([[291,  52, 163,  22],\n",
              "       [  0,   0,   0,   0],\n",
              "       [  0,   0,   0,   0],\n",
              "       [  0,   0,   0,   0]])"
            ]
          },
          "metadata": {
            "tags": []
          },
          "execution_count": 45
        }
      ]
    },
    {
      "cell_type": "code",
      "metadata": {
        "id": "pB5P5xAZTV7p",
        "colab_type": "code",
        "outputId": "fbfb79ac-4809-4108-9f38-9a9e3c062035",
        "colab": {
          "base_uri": "https://localhost:8080/",
          "height": 35
        }
      },
      "source": [
        "np.argmax(pred_labels, axis=1)"
      ],
      "execution_count": 0,
      "outputs": [
        {
          "output_type": "execute_result",
          "data": {
            "text/plain": [
              "array([0, 0, 0, ..., 0, 0, 0])"
            ]
          },
          "metadata": {
            "tags": []
          },
          "execution_count": 46
        }
      ]
    },
    {
      "cell_type": "code",
      "metadata": {
        "id": "EVC5CposUDxL",
        "colab_type": "code",
        "outputId": "d9fe298d-b6df-4bd3-9011-530f8d13eb0b",
        "colab": {
          "base_uri": "https://localhost:8080/",
          "height": 141
        }
      },
      "source": [
        "pred_labels"
      ],
      "execution_count": 0,
      "outputs": [
        {
          "output_type": "execute_result",
          "data": {
            "text/plain": [
              "array([[0.6025164 , 0.08281264, 0.27738595, 0.03728497],\n",
              "       [0.6025164 , 0.08281264, 0.27738595, 0.03728497],\n",
              "       [0.6025164 , 0.08281264, 0.27738595, 0.03728497],\n",
              "       ...,\n",
              "       [0.6025164 , 0.08281264, 0.27738595, 0.03728497],\n",
              "       [0.6025164 , 0.08281264, 0.27738595, 0.03728497],\n",
              "       [0.6025164 , 0.08281264, 0.27738595, 0.03728497]], dtype=float32)"
            ]
          },
          "metadata": {
            "tags": []
          },
          "execution_count": 47
        }
      ]
    },
    {
      "cell_type": "code",
      "metadata": {
        "id": "AHCg8otjbTd2",
        "colab_type": "code",
        "colab": {}
      },
      "source": [
        ""
      ],
      "execution_count": 0,
      "outputs": []
    }
  ]
}