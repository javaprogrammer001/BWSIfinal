{
  "nbformat": 4,
  "nbformat_minor": 0,
  "metadata": {
    "colab": {
      "name": "Copy of Shash_RandomForest.ipynb",
      "provenance": [],
      "collapsed_sections": [],
      "include_colab_link": true
    },
    "kernelspec": {
      "name": "python2",
      "display_name": "Python 2"
    },
    "accelerator": "GPU"
  },
  "cells": [
    {
      "cell_type": "markdown",
      "metadata": {
        "id": "view-in-github",
        "colab_type": "text"
      },
      "source": [
        "<a href=\"https://colab.research.google.com/github/lingelizabeth/BWSIfinal/blob/master/RandomForest.ipynb\" target=\"_parent\"><img src=\"https://colab.research.google.com/assets/colab-badge.svg\" alt=\"Open In Colab\"/></a>"
      ]
    },
    {
      "cell_type": "code",
      "metadata": {
        "id": "STtBCSudGfBw",
        "colab_type": "code",
        "outputId": "656f472f-9487-4645-f359-5e2ac0b1e749",
        "colab": {
          "base_uri": "https://localhost:8080/",
          "height": 418
        }
      },
      "source": [
        "!pip install peakutils\n",
        "!pip install imblearn"
      ],
      "execution_count": 0,
      "outputs": [
        {
          "output_type": "stream",
          "text": [
            "Collecting peakutils\n",
            "  Downloading https://files.pythonhosted.org/packages/cf/a0/9e9c716221b541c8b919a5c36f098ef5a34329ea881ff44ff581b427a36a/PeakUtils-1.1.1.tar.gz\n",
            "Requirement already satisfied: numpy in /usr/local/lib/python2.7/dist-packages (from peakutils) (1.14.5)\n",
            "Requirement already satisfied: scipy in /usr/local/lib/python2.7/dist-packages (from peakutils) (0.19.1)\n",
            "Building wheels for collected packages: peakutils\n",
            "  Running setup.py bdist_wheel for peakutils ... \u001b[?25l-\b \bdone\n",
            "\u001b[?25h  Stored in directory: /content/.cache/pip/wheels/1f/ee/00/e1378b61ba846a1eb898da7005254ee13fd09c3beeefefc3f2\n",
            "Successfully built peakutils\n",
            "Installing collected packages: peakutils\n",
            "Successfully installed peakutils-1.1.1\n",
            "Collecting imblearn\n",
            "  Downloading https://files.pythonhosted.org/packages/81/a7/4179e6ebfd654bd0eac0b9c06125b8b4c96a9d0a8ff9e9507eb2a26d2d7e/imblearn-0.0-py2.py3-none-any.whl\n",
            "Collecting imbalanced-learn (from imblearn)\n",
            "\u001b[?25l  Downloading https://files.pythonhosted.org/packages/7a/63/416529a405262610350b92b949b3aede55a032e4f5ab94fbbfce82883ee6/imbalanced-learn-0.3.3.tar.gz (41.9MB)\n",
            "\u001b[K    100% |████████████████████████████████| 41.9MB 703kB/s \n",
            "\u001b[?25hRequirement already satisfied: scipy in /usr/local/lib/python2.7/dist-packages (from imbalanced-learn->imblearn) (0.19.1)\n",
            "Requirement already satisfied: numpy in /usr/local/lib/python2.7/dist-packages (from imbalanced-learn->imblearn) (1.14.5)\n",
            "Requirement already satisfied: scikit-learn in /usr/local/lib/python2.7/dist-packages (from imbalanced-learn->imblearn) (0.19.2)\n",
            "Building wheels for collected packages: imbalanced-learn\n",
            "  Running setup.py bdist_wheel for imbalanced-learn ... \u001b[?25l-\b \b\\\b \bdone\n",
            "\u001b[?25h  Stored in directory: /content/.cache/pip/wheels/f4/a9/be/363d606aab48a47f91b3c5aadfbe0e8eb78974997e38a2c7ce\n",
            "Successfully built imbalanced-learn\n",
            "Installing collected packages: imbalanced-learn, imblearn\n",
            "Successfully installed imbalanced-learn-0.3.3 imblearn-0.0\n"
          ],
          "name": "stdout"
        }
      ]
    },
    {
      "cell_type": "code",
      "metadata": {
        "id": "sjgRtCYrioLD",
        "colab_type": "code",
        "outputId": "7f0e6643-58cf-4a05-f585-337ba0594943",
        "colab": {
          "base_uri": "https://localhost:8080/",
          "height": 33
        }
      },
      "source": [
        "from scipy.io import *\n",
        "from google.colab import files\n",
        "import matplotlib.pyplot as plt\n",
        "import numpy as np\n",
        "import math\n",
        "import os\n",
        "import pandas as pd\n",
        "import random\n",
        "import peakutils\n",
        "from sklearn import metrics\n",
        "from google.colab import files\n",
        "\n",
        "from sklearn.utils import shuffle\n",
        "from sklearn.model_selection import train_test_split\n",
        "import tensorflow as tf\n",
        "from scipy.interpolate import *\n",
        "from scipy.signal import *\n",
        "\n",
        "import keras\n",
        "from keras import optimizers\n",
        "from keras.layers import *\n",
        "from keras.models import *\n",
        "\n",
        "from sklearn.tree import DecisionTreeClassifier\n",
        "from sklearn.model_selection import GridSearchCV\n",
        "from sklearn import tree\n",
        "from sklearn.ensemble import RandomForestClassifier\n",
        "from sklearn.svm import SVC\n",
        "from sklearn.neighbors import KNeighborsClassifier\n",
        "import numpy as np\n",
        "import matplotlib.pyplot as plt\n",
        "from itertools import cycle\n",
        "\n",
        "from sklearn import svm, datasets\n",
        "from sklearn.metrics import roc_curve, auc\n",
        "from sklearn.model_selection import train_test_split\n",
        "from sklearn.preprocessing import label_binarize\n",
        "from sklearn.multiclass import OneVsRestClassifier\n",
        "from scipy import interp\n",
        "from imblearn import over_sampling as imb"
      ],
      "execution_count": 0,
      "outputs": [
        {
          "output_type": "stream",
          "text": [
            "Using TensorFlow backend.\n"
          ],
          "name": "stderr"
        }
      ]
    },
    {
      "cell_type": "code",
      "metadata": {
        "id": "HXhBceEdU2p3",
        "colab_type": "code",
        "colab": {}
      },
      "source": [
        "#tf.enable_eager_execution()"
      ],
      "execution_count": 0,
      "outputs": []
    },
    {
      "cell_type": "code",
      "metadata": {
        "id": "5iB7SzL-m1Uw",
        "colab_type": "code",
        "outputId": "fd1c47be-972c-4370-9714-d480ecd8c92e",
        "colab": {
          "base_uri": "https://localhost:8080/",
          "height": 117
        }
      },
      "source": [
        "!git clone https://github.com/liua13/BWSIFinalProject\n",
        "os.chdir('./BWSIFinalProject')"
      ],
      "execution_count": 0,
      "outputs": [
        {
          "output_type": "stream",
          "text": [
            "Cloning into 'BWSIFinalProject'...\n",
            "remote: Counting objects: 8553, done.\u001b[K\n",
            "remote: Compressing objects: 100% (8552/8552), done.\u001b[K\n",
            "remote: Total 8553 (delta 7), reused 8542 (delta 1), pack-reused 0\u001b[K\n",
            "Receiving objects: 100% (8553/8553), 92.35 MiB | 23.70 MiB/s, done.\n",
            "Resolving deltas: 100% (7/7), done.\n"
          ],
          "name": "stdout"
        }
      ]
    },
    {
      "cell_type": "code",
      "metadata": {
        "id": "5mfbL3lOy0BQ",
        "colab_type": "code",
        "outputId": "40a24b57-071c-4e08-b2a0-a99258fa1f2c",
        "colab": {
          "base_uri": "https://localhost:8080/",
          "height": 196
        }
      },
      "source": [
        "labels = pd.read_csv(\"labels.csv\", names = ['name', 'class'])\n",
        "labels['class'] = labels['class'].replace('N', 0) # non af                \n",
        "labels['class'] = labels['class'].replace('A', 1) # af\n",
        "labels['class'] = labels['class'].replace('O', 2) # other      \n",
        "labels['class'] = labels['class'].replace('~', 3) # nois\n",
        "labels = labels.drop([\"name\"], axis=1)\n",
        "labels.head()"
      ],
      "execution_count": 0,
      "outputs": [
        {
          "output_type": "execute_result",
          "data": {
            "text/html": [
              "<div>\n",
              "<style scoped>\n",
              "    .dataframe tbody tr th:only-of-type {\n",
              "        vertical-align: middle;\n",
              "    }\n",
              "\n",
              "    .dataframe tbody tr th {\n",
              "        vertical-align: top;\n",
              "    }\n",
              "\n",
              "    .dataframe thead th {\n",
              "        text-align: right;\n",
              "    }\n",
              "</style>\n",
              "<table border=\"1\" class=\"dataframe\">\n",
              "  <thead>\n",
              "    <tr style=\"text-align: right;\">\n",
              "      <th></th>\n",
              "      <th>class</th>\n",
              "    </tr>\n",
              "  </thead>\n",
              "  <tbody>\n",
              "    <tr>\n",
              "      <th>0</th>\n",
              "      <td>0</td>\n",
              "    </tr>\n",
              "    <tr>\n",
              "      <th>1</th>\n",
              "      <td>0</td>\n",
              "    </tr>\n",
              "    <tr>\n",
              "      <th>2</th>\n",
              "      <td>0</td>\n",
              "    </tr>\n",
              "    <tr>\n",
              "      <th>3</th>\n",
              "      <td>1</td>\n",
              "    </tr>\n",
              "    <tr>\n",
              "      <th>4</th>\n",
              "      <td>1</td>\n",
              "    </tr>\n",
              "  </tbody>\n",
              "</table>\n",
              "</div>"
            ],
            "text/plain": [
              "   class\n",
              "0      0\n",
              "1      0\n",
              "2      0\n",
              "3      1\n",
              "4      1"
            ]
          },
          "metadata": {
            "tags": []
          },
          "execution_count": 4
        }
      ]
    },
    {
      "cell_type": "code",
      "metadata": {
        "id": "Prqm5qEsvCpA",
        "colab_type": "code",
        "outputId": "41dfa7fb-1fa0-4402-d262-b0be88bdc592",
        "colab": {
          "base_uri": "https://localhost:8080/",
          "height": 196
        }
      },
      "source": [
        "df  = pd.read_csv('allrecords.csv', names = ['record name', 'signals', 'frequency', 'sample number', 'date','time','filename', 'format', 'baseline','adc', 'zeroes', 'initial value','check','block','description', 'NaNs'])\n",
        "df = df.drop(['signals', 'frequency', 'format', 'baseline', 'filename', 'adc', 'zeroes', 'check', 'block', 'description', 'NaNs'], axis=1)\n",
        "df['labels'] = labels['class']\n",
        "df.head()"
      ],
      "execution_count": 0,
      "outputs": [
        {
          "output_type": "execute_result",
          "data": {
            "text/html": [
              "<div>\n",
              "<style scoped>\n",
              "    .dataframe tbody tr th:only-of-type {\n",
              "        vertical-align: middle;\n",
              "    }\n",
              "\n",
              "    .dataframe tbody tr th {\n",
              "        vertical-align: top;\n",
              "    }\n",
              "\n",
              "    .dataframe thead th {\n",
              "        text-align: right;\n",
              "    }\n",
              "</style>\n",
              "<table border=\"1\" class=\"dataframe\">\n",
              "  <thead>\n",
              "    <tr style=\"text-align: right;\">\n",
              "      <th></th>\n",
              "      <th>record name</th>\n",
              "      <th>sample number</th>\n",
              "      <th>date</th>\n",
              "      <th>time</th>\n",
              "      <th>initial value</th>\n",
              "      <th>labels</th>\n",
              "    </tr>\n",
              "  </thead>\n",
              "  <tbody>\n",
              "    <tr>\n",
              "      <th>0</th>\n",
              "      <td>A00001</td>\n",
              "      <td>9000</td>\n",
              "      <td>2014-05-08</td>\n",
              "      <td>05:05:15</td>\n",
              "      <td>-127</td>\n",
              "      <td>0</td>\n",
              "    </tr>\n",
              "    <tr>\n",
              "      <th>1</th>\n",
              "      <td>A00002</td>\n",
              "      <td>9000</td>\n",
              "      <td>2014-05-16</td>\n",
              "      <td>11:05:25</td>\n",
              "      <td>128</td>\n",
              "      <td>0</td>\n",
              "    </tr>\n",
              "    <tr>\n",
              "      <th>2</th>\n",
              "      <td>A00003</td>\n",
              "      <td>18000</td>\n",
              "      <td>2014-04-15</td>\n",
              "      <td>12:04:05</td>\n",
              "      <td>56</td>\n",
              "      <td>0</td>\n",
              "    </tr>\n",
              "    <tr>\n",
              "      <th>3</th>\n",
              "      <td>A00004</td>\n",
              "      <td>9000</td>\n",
              "      <td>2014-05-01</td>\n",
              "      <td>11:05:48</td>\n",
              "      <td>519</td>\n",
              "      <td>1</td>\n",
              "    </tr>\n",
              "    <tr>\n",
              "      <th>4</th>\n",
              "      <td>A00005</td>\n",
              "      <td>18000</td>\n",
              "      <td>2013-12-23</td>\n",
              "      <td>08:12:08</td>\n",
              "      <td>-188</td>\n",
              "      <td>1</td>\n",
              "    </tr>\n",
              "  </tbody>\n",
              "</table>\n",
              "</div>"
            ],
            "text/plain": [
              "  record name  sample number        date      time  initial value  labels\n",
              "0      A00001           9000  2014-05-08  05:05:15           -127       0\n",
              "1      A00002           9000  2014-05-16  11:05:25            128       0\n",
              "2      A00003          18000  2014-04-15  12:04:05             56       0\n",
              "3      A00004           9000  2014-05-01  11:05:48            519       1\n",
              "4      A00005          18000  2013-12-23  08:12:08           -188       1"
            ]
          },
          "metadata": {
            "tags": []
          },
          "execution_count": 5
        }
      ]
    },
    {
      "cell_type": "code",
      "metadata": {
        "id": "v_e4s8_0E-Gq",
        "colab_type": "code",
        "outputId": "957d8ddc-558a-47f2-a012-12b872db1e25",
        "colab": {
          "resources": {
            "http://localhost:8080/nbextensions/google.colab/files.js": {
              "data": "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",
              "ok": true,
              "headers": [
                [
                  "content-type",
                  "application/javascript"
                ]
              ],
              "status": 200,
              "status_text": ""
            }
          },
          "base_uri": "https://localhost:8080/",
          "height": 109
        }
      },
      "source": [
        "files.upload()"
      ],
      "execution_count": 0,
      "outputs": [
        {
          "output_type": "display_data",
          "data": {
            "text/plain": [
              "<IPython.core.display.HTML object>"
            ],
            "text/html": [
              "\n",
              "     <input type=\"file\" id=\"files-39c975c4-b74a-4635-9c88-5c9ffafe8178\" name=\"files[]\" multiple disabled />\n",
              "     <output id=\"result-39c975c4-b74a-4635-9c88-5c9ffafe8178\">\n",
              "      Upload widget is only available when the cell has been executed in the\n",
              "      current browser session. Please rerun this cell to enable.\n",
              "      </output>\n",
              "      <script src=\"/nbextensions/google.colab/files.js\"></script> "
            ]
          },
          "metadata": {
            "tags": []
          }
        },
        {
          "output_type": "stream",
          "text": [
            "Saving medlyticsfinalprojecttest.csv to medlyticsfinalprojecttest.csv\n"
          ],
          "name": "stdout"
        },
        {
          "output_type": "execute_result",
          "data": {
            "text/plain": [
              "{u'medlyticsfinalprojecttest.csv': \"Experiment name:,medlyticsfinalprojecttest\\rDuration:, 10 Seconds\\rRate:, 100 per second\\rSensors:, ECG (ID 1  Exp 1)\\rRange:, Arb\\rUnits:, Arb\\rTime\\r'0:0:0.0,4050\\r'0:0:0.01,4048\\r'0:0:0.02,4048\\r'0:0:0.03,4050\\r'0:0:0.04,4051\\r'0:0:0.05,4049\\r'0:0:0.06,4046\\r'0:0:0.07,4046\\r'0:0:0.08,4046\\r'0:0:0.09,4044\\r'0:0:0.1,4043\\r'0:0:0.11,4042\\r'0:0:0.12,4040\\r'0:0:0.13,4042\\r'0:0:0.14,4043\\r'0:0:0.15,4040\\r'0:0:0.16,4040\\r'0:0:0.17,4040\\r'0:0:0.18,4041\\r'0:0:0.19,4043\\r'0:0:0.2,4042\\r'0:0:0.21,4042\\r'0:0:0.22,4042\\r'0:0:0.23,4044\\r'0:0:0.24,4044\\r'0:0:0.25,4042\\r'0:0:0.26,4040\\r'0:0:0.27,4038\\r'0:0:0.28,4038\\r'0:0:0.29,4035\\r'0:0:0.3,4031\\r'0:0:0.31,4032\\r'0:0:0.32,4029\\r'0:0:0.33,4031\\r'0:0:0.34,4031\\r'0:0:0.35,4025\\r'0:0:0.36,4027\\r'0:0:0.37,4030\\r'0:0:0.38,4034\\r'0:0:0.39,4033\\r'0:0:0.4,4026\\r'0:0:0.41,4025\\r'0:0:0.42,4024\\r'0:0:0.43,4026\\r'0:0:0.44,4027\\r'0:0:0.45,4023\\r'0:0:0.46,4027\\r'0:0:0.47,4004\\r'0:0:0.48,3999\\r'0:0:0.49,4018\\r'0:0:0.5,4011\\r'0:0:0.51,4013\\r'0:0:0.52,4005\\r'0:0:0.53,4000\\r'0:0:0.54,3994\\r'0:0:0.55,3972\\r'0:0:0.56,3980\\r'0:0:0.57,4001\\r'0:0:0.58,4004\\r'0:0:0.59,4002\\r'0:0:0.6,4004\\r'0:0:0.61,4002\\r'0:0:0.62,3984\\r'0:0:0.63,3963\\r'0:0:0.64,3924\\r'0:0:0.65,3853\\r'0:0:0.66,3858\\r'0:0:0.67,3888\\r'0:0:0.68,3846\\r'0:0:0.69,3830\\r'0:0:0.7,3807\\r'0:0:0.71,3822\\r'0:0:0.72,3936\\r'0:0:0.73,4022\\r'0:0:0.74,3977\\r'0:0:0.75,3757\\r'0:0:0.76,3683\\r'0:0:0.77,3782\\r'0:0:0.78,3801\\r'0:0:0.79,3822\\r'0:0:0.8,3799\\r'0:0:0.81,3835\\r'0:0:0.82,3827\\r'0:0:0.83,3758\\r'0:0:0.84,3809\\r'0:0:0.85,3811\\r'0:0:0.86,3849\\r'0:0:0.87,3907\\r'0:0:0.88,3908\\r'0:0:0.89,3909\\r'0:0:0.9,3873\\r'0:0:0.91,3899\\r'0:0:0.92,3927\\r'0:0:0.93,3940\\r'0:0:0.94,3970\\r'0:0:0.95,3953\\r'0:0:0.96,3970\\r'0:0:0.97,4004\\r'0:0:0.98,4011\\r'0:0:0.99,4013\\r'0:0:1.0,4017\\r'0:0:1.01,4025\\r'0:0:1.02,4022\\r'0:0:1.03,4010\\r'0:0:1.04,3950\\r'0:0:1.05,3866\\r'0:0:1.06,3832\\r'0:0:1.07,3783\\r'0:0:1.08,3725\\r'0:0:1.09,3680\\r'0:0:1.1,3613\\r'0:0:1.11,3665\\r'0:0:1.12,3677\\r'0:0:1.13,3627\\r'0:0:1.14,3646\\r'0:0:1.15,3601\\r'0:0:1.16,3584\\r'0:0:1.17,3562\\r'0:0:1.18,3581\\r'0:0:1.19,3603\\r'0:0:1.2,3551\\r'0:0:1.21,3557\\r'0:0:1.22,3528\\r'0:0:1.23,3485\\r'0:0:1.24,3476\\r'0:0:1.25,3462\\r'0:0:1.26,3478\\r'0:0:1.27,3430\\r'0:0:1.28,3414\\r'0:0:1.29,3448\\r'0:0:1.3,3430\\r'0:0:1.31,3390\\r'0:0:1.32,3366\\r'0:0:1.33,3354\\r'0:0:1.34,3355\\r'0:0:1.35,3426\\r'0:0:1.36,3440\\r'0:0:1.37,3234\\r'0:0:1.38,3102\\r'0:0:1.39,3100\\r'0:0:1.4,3069\\r'0:0:1.41,3127\\r'0:0:1.42,3128\\r'0:0:1.43,3091\\r'0:0:1.44,3074\\r'0:0:1.45,3077\\r'0:0:1.46,3342\\r'0:0:1.47,3680\\r'0:0:1.48,3511\\r'0:0:1.49,3078\\r'0:0:1.5,2973\\r'0:0:1.51,3152\\r'0:0:1.52,3190\\r'0:0:1.53,3148\\r'0:0:1.54,3175\\r'0:0:1.55,3129\\r'0:0:1.56,3155\\r'0:0:1.57,3190\\r'0:0:1.58,3156\\r'0:0:1.59,3170\\r'0:0:1.6,3188\\r'0:0:1.61,3251\\r'0:0:1.62,3276\\r'0:0:1.63,3277\\r'0:0:1.64,3316\\r'0:0:1.65,3296\\r'0:0:1.66,3314\\r'0:0:1.67,3364\\r'0:0:1.68,3406\\r'0:0:1.69,3422\\r'0:0:1.7,3412\\r'0:0:1.71,3484\\r'0:0:1.72,3532\\r'0:0:1.73,3536\\r'0:0:1.74,3587\\r'0:0:1.75,3623\\r'0:0:1.76,3606\\r'0:0:1.77,3526\\r'0:0:1.78,3455\\r'0:0:1.79,3374\\r'0:0:1.8,3253\\r'0:0:1.81,3237\\r'0:0:1.82,3212\\r'0:0:1.83,3185\\r'0:0:1.84,3178\\r'0:0:1.85,3107\\r'0:0:1.86,3117\\r'0:0:1.87,3137\\r'0:0:1.88,3190\\r'0:0:1.89,3224\\r'0:0:1.9,3185\\r'0:0:1.91,3177\\r'0:0:1.92,3194\\r'0:0:1.93,3179\\r'0:0:1.94,3137\\r'0:0:1.95,3132\\r'0:0:1.96,3176\\r'0:0:1.97,3174\\r'0:0:1.98,3160\\r'0:0:1.99,3174\\r'0:0:2.0,3137\\r'0:0:2.01,3149\\r'0:0:2.02,3116\\r'0:0:2.03,3102\\r'0:0:2.04,3162\\r'0:0:2.05,3104\\r'0:0:2.06,3076\\r'0:0:2.07,3116\\r'0:0:2.08,3148\\r'0:0:2.09,3148\\r'0:0:2.1,3130\\r'0:0:2.11,3137\\r'0:0:2.12,3139\\r'0:0:2.13,3190\\r'0:0:2.14,3244\\r'0:0:2.15,3185\\r'0:0:2.16,3161\\r'0:0:2.17,3150\\r'0:0:2.18,3115\\r'0:0:2.19,3139\\r'0:0:2.2,3123\\r'0:0:2.21,3134\\r'0:0:2.22,3086\\r'0:0:2.23,3061\\r'0:0:2.24,3212\\r'0:0:2.25,3502\\r'0:0:2.26,3631\\r'0:0:2.27,3320\\r'0:0:2.28,3080\\r'0:0:2.29,3130\\r'0:0:2.3,3152\\r'0:0:2.31,3154\\r'0:0:2.32,3156\\r'0:0:2.33,3139\\r'0:0:2.34,3149\\r'0:0:2.35,3159\\r'0:0:2.36,3186\\r'0:0:2.37,3159\\r'0:0:2.38,3162\\r'0:0:2.39,3202\\r'0:0:2.4,3183\\r'0:0:2.41,3215\\r'0:0:2.42,3245\\r'0:0:2.43,3253\\r'0:0:2.44,3252\\r'0:0:2.45,3263\\r'0:0:2.46,3302\\r'0:0:2.47,3295\\r'0:0:2.48,3344\\r'0:0:2.49,3384\\r'0:0:2.5,3383\\r'0:0:2.51,3433\\r'0:0:2.52,3481\\r'0:0:2.53,3511\\r'0:0:2.54,3514\\r'0:0:2.55,3493\\r'0:0:2.56,3425\\r'0:0:2.57,3298\\r'0:0:2.58,3211\\r'0:0:2.59,3163\\r'0:0:2.6,3094\\r'0:0:2.61,3110\\r'0:0:2.62,3080\\r'0:0:2.63,3029\\r'0:0:2.64,3054\\r'0:0:2.65,3028\\r'0:0:2.66,3030\\r'0:0:2.67,3043\\r'0:0:2.68,3059\\r'0:0:2.69,3065\\r'0:0:2.7,3018\\r'0:0:2.71,3038\\r'0:0:2.72,3064\\r'0:0:2.73,3065\\r'0:0:2.74,3067\\r'0:0:2.75,3038\\r'0:0:2.76,3030\\r'0:0:2.77,3030\\r'0:0:2.78,3033\\r'0:0:2.79,3058\\r'0:0:2.8,3041\\r'0:0:2.81,3023\\r'0:0:2.82,3019\\r'0:0:2.83,3052\\r'0:0:2.84,3067\\r'0:0:2.85,3028\\r'0:0:2.86,3039\\r'0:0:2.87,3044\\r'0:0:2.88,3037\\r'0:0:2.89,3064\\r'0:0:2.9,3076\\r'0:0:2.91,3055\\r'0:0:2.92,3047\\r'0:0:2.93,3098\\r'0:0:2.94,3143\\r'0:0:2.95,3115\\r'0:0:2.96,3118\\r'0:0:2.97,3096\\r'0:0:2.98,3021\\r'0:0:2.99,3014\\r'0:0:3.0,3038\\r'0:0:3.01,3077\\r'0:0:3.02,3049\\r'0:0:3.03,3041\\r'0:0:3.04,3057\\r'0:0:3.05,3023\\r'0:0:3.06,3279\\r'0:0:3.07,3605\\r'0:0:3.08,3413\\r'0:0:3.09,3068\\r'0:0:3.1,3050\\r'0:0:3.11,3134\\r'0:0:3.12,3092\\r'0:0:3.13,3051\\r'0:0:3.14,3078\\r'0:0:3.15,3067\\r'0:0:3.16,3100\\r'0:0:3.17,3084\\r'0:0:3.18,3048\\r'0:0:3.19,3112\\r'0:0:3.2,3137\\r'0:0:3.21,3145\\r'0:0:3.22,3140\\r'0:0:3.23,3152\\r'0:0:3.24,3169\\r'0:0:3.25,3160\\r'0:0:3.26,3197\\r'0:0:3.27,3220\\r'0:0:3.28,3244\\r'0:0:3.29,3283\\r'0:0:3.3,3280\\r'0:0:3.31,3332\\r'0:0:3.32,3375\\r'0:0:3.33,3399\\r'0:0:3.34,3433\\r'0:0:3.35,3460\\r'0:0:3.36,3468\\r'0:0:3.37,3400\\r'0:0:3.38,3331\\r'0:0:3.39,3253\\r'0:0:3.4,3161\\r'0:0:3.41,3106\\r'0:0:3.42,3036\\r'0:0:3.43,3017\\r'0:0:3.44,3045\\r'0:0:3.45,3019\\r'0:0:3.46,3006\\r'0:0:3.47,2992\\r'0:0:3.48,3008\\r'0:0:3.49,3022\\r'0:0:3.5,3022\\r'0:0:3.51,3045\\r'0:0:3.52,3008\\r'0:0:3.53,3008\\r'0:0:3.54,3026\\r'0:0:3.55,3023\\r'0:0:3.56,3045\\r'0:0:3.57,3027\\r'0:0:3.58,3031\\r'0:0:3.59,3034\\r'0:0:3.6,2982\\r'0:0:3.61,3001\\r'0:0:3.62,3005\\r'0:0:3.63,2977\\r'0:0:3.64,3030\\r'0:0:3.65,3015\\r'0:0:3.66,3005\\r'0:0:3.67,3026\\r'0:0:3.68,3030\\r'0:0:3.69,3033\\r'0:0:3.7,2985\\r'0:0:3.71,2993\\r'0:0:3.72,3015\\r'0:0:3.73,3040\\r'0:0:3.74,3057\\r'0:0:3.75,3002\\r'0:0:3.76,3042\\r'0:0:3.77,3075\\r'0:0:3.78,3074\\r'0:0:3.79,3109\\r'0:0:3.8,3061\\r'0:0:3.81,3043\\r'0:0:3.82,3016\\r'0:0:3.83,2982\\r'0:0:3.84,3032\\r'0:0:3.85,3025\\r'0:0:3.86,2995\\r'0:0:3.87,2989\\r'0:0:3.88,3040\\r'0:0:3.89,3320\\r'0:0:3.9,3580\\r'0:0:3.91,3374\\r'0:0:3.92,3002\\r'0:0:3.93,2977\\r'0:0:3.94,3077\\r'0:0:3.95,3052\\r'0:0:3.96,3067\\r'0:0:3.97,3081\\r'0:0:3.98,3038\\r'0:0:3.99,3034\\r'0:0:4.0,3075\\r'0:0:4.01,3104\\r'0:0:4.02,3101\\r'0:0:4.03,3103\\r'0:0:4.04,3109\\r'0:0:4.05,3121\\r'0:0:4.06,3132\\r'0:0:4.07,3134\\r'0:0:4.08,3163\\r'0:0:4.09,3181\\r'0:0:4.1,3171\\r'0:0:4.11,3207\\r'0:0:4.12,3227\\r'0:0:4.13,3245\\r'0:0:4.14,3308\\r'0:0:4.15,3325\\r'0:0:4.16,3345\\r'0:0:4.17,3366\\r'0:0:4.18,3396\\r'0:0:4.19,3422\\r'0:0:4.2,3332\\r'0:0:4.21,3257\\r'0:0:4.22,3188\\r'0:0:4.23,3085\\r'0:0:4.24,3069\\r'0:0:4.25,3017\\r'0:0:4.26,2988\\r'0:0:4.27,2996\\r'0:0:4.28,2973\\r'0:0:4.29,2973\\r'0:0:4.3,2958\\r'0:0:4.31,2991\\r'0:0:4.32,3017\\r'0:0:4.33,2993\\r'0:0:4.34,3008\\r'0:0:4.35,3000\\r'0:0:4.36,2998\\r'0:0:4.37,3012\\r'0:0:4.38,3013\\r'0:0:4.39,3021\\r'0:0:4.4,2988\\r'0:0:4.41,3004\\r'0:0:4.42,2984\\r'0:0:4.43,2975\\r'0:0:4.44,3011\\r'0:0:4.45,2970\\r'0:0:4.46,2994\\r'0:0:4.47,3000\\r'0:0:4.48,2996\\r'0:0:4.49,2998\\r'0:0:4.5,2939\\r'0:0:4.51,2956\\r'0:0:4.52,3007\\r'0:0:4.53,3030\\r'0:0:4.54,3002\\r'0:0:4.55,2993\\r'0:0:4.56,3037\\r'0:0:4.57,2995\\r'0:0:4.58,3002\\r'0:0:4.59,3082\\r'0:0:4.6,3045\\r'0:0:4.61,2989\\r'0:0:4.62,2942\\r'0:0:4.63,2951\\r'0:0:4.64,2986\\r'0:0:4.65,2935\\r'0:0:4.66,2947\\r'0:0:4.67,2947\\r'0:0:4.68,3096\\r'0:0:4.69,3481\\r'0:0:4.7,3445\\r'0:0:4.71,3053\\r'0:0:4.72,2865\\r'0:0:4.73,2949\\r'0:0:4.74,3037\\r'0:0:4.75,2989\\r'0:0:4.76,2984\\r'0:0:4.77,3015\\r'0:0:4.78,3040\\r'0:0:4.79,3022\\r'0:0:4.8,2964\\r'0:0:4.81,3019\\r'0:0:4.82,3075\\r'0:0:4.83,3052\\r'0:0:4.84,3060\\r'0:0:4.85,3067\\r'0:0:4.86,3087\\r'0:0:4.87,3087\\r'0:0:4.88,3097\\r'0:0:4.89,3160\\r'0:0:4.9,3147\\r'0:0:4.91,3156\\r'0:0:4.92,3200\\r'0:0:4.93,3231\\r'0:0:4.94,3268\\r'0:0:4.95,3308\\r'0:0:4.96,3328\\r'0:0:4.97,3366\\r'0:0:4.98,3410\\r'0:0:4.99,3350\\r'0:0:5.0,3237\\r'0:0:5.01,3168\\r'0:0:5.02,3074\\r'0:0:5.03,2976\\r'0:0:5.04,2951\\r'0:0:5.05,2911\\r'0:0:5.06,2944\\r'0:0:5.07,2935\\r'0:0:5.08,2917\\r'0:0:5.09,2941\\r'0:0:5.1,2890\\r'0:0:5.11,2894\\r'0:0:5.12,2906\\r'0:0:5.13,2920\\r'0:0:5.14,2941\\r'0:0:5.15,2914\\r'0:0:5.16,2917\\r'0:0:5.17,2908\\r'0:0:5.18,2924\\r'0:0:5.19,2926\\r'0:0:5.2,2880\\r'0:0:5.21,2931\\r'0:0:5.22,2932\\r'0:0:5.23,2891\\r'0:0:5.24,2912\\r'0:0:5.25,2892\\r'0:0:5.26,2887\\r'0:0:5.27,2864\\r'0:0:5.28,2898\\r'0:0:5.29,2942\\r'0:0:5.3,2905\\r'0:0:5.31,2913\\r'0:0:5.32,2893\\r'0:0:5.33,2892\\r'0:0:5.34,2918\\r'0:0:5.35,2853\\r'0:0:5.36,2851\\r'0:0:5.37,2910\\r'0:0:5.38,2910\\r'0:0:5.39,2933\\r'0:0:5.4,2924\\r'0:0:5.41,2918\\r'0:0:5.42,2931\\r'0:0:5.43,2940\\r'0:0:5.44,2970\\r'0:0:5.45,2915\\r'0:0:5.46,2870\\r'0:0:5.47,2873\\r'0:0:5.48,2878\\r'0:0:5.49,2874\\r'0:0:5.5,2853\\r'0:0:5.51,2871\\r'0:0:5.52,2852\\r'0:0:5.53,2914\\r'0:0:5.54,3238\\r'0:0:5.55,3445\\r'0:0:5.56,3187\\r'0:0:5.57,2846\\r'0:0:5.58,2840\\r'0:0:5.59,2947\\r'0:0:5.6,2932\\r'0:0:5.61,2893\\r'0:0:5.62,2889\\r'0:0:5.63,2935\\r'0:0:5.64,2943\\r'0:0:5.65,2921\\r'0:0:5.66,2958\\r'0:0:5.67,2956\\r'0:0:5.68,2957\\r'0:0:5.69,2986\\r'0:0:5.7,2970\\r'0:0:5.71,2999\\r'0:0:5.72,3028\\r'0:0:5.73,3046\\r'0:0:5.74,3062\\r'0:0:5.75,3027\\r'0:0:5.76,3094\\r'0:0:5.77,3151\\r'0:0:5.78,3152\\r'0:0:5.79,3160\\r'0:0:5.8,3197\\r'0:0:5.81,3281\\r'0:0:5.82,3287\\r'0:0:5.83,3312\\r'0:0:5.84,3338\\r'0:0:5.85,3262\\r'0:0:5.86,3191\\r'0:0:5.87,3069\\r'0:0:5.88,2959\\r'0:0:5.89,2959\\r'0:0:5.9,2932\\r'0:0:5.91,2887\\r'0:0:5.92,2854\\r'0:0:5.93,2863\\r'0:0:5.94,2869\\r'0:0:5.95,2843\\r'0:0:5.96,2891\\r'0:0:5.97,2886\\r'0:0:5.98,2888\\r'0:0:5.99,2920\\r'0:0:6.0,2867\\r'0:0:6.01,2835\\r'0:0:6.02,2869\\r'0:0:6.03,2915\\r'0:0:6.04,2866\\r'0:0:6.05,2836\\r'0:0:6.06,2902\\r'0:0:6.07,2904\\r'0:0:6.08,2880\\r'0:0:6.09,2902\\r'0:0:6.1,2848\\r'0:0:6.11,2846\\r'0:0:6.12,2887\\r'0:0:6.13,2868\\r'0:0:6.14,2868\\r'0:0:6.15,2846\\r'0:0:6.16,2887\\r'0:0:6.17,2890\\r'0:0:6.18,2848\\r'0:0:6.19,2869\\r'0:0:6.2,2869\\r'0:0:6.21,2870\\r'0:0:6.22,2861\\r'0:0:6.23,2869\\r'0:0:6.24,2877\\r'0:0:6.25,2844\\r'0:0:6.26,2877\\r'0:0:6.27,2883\\r'0:0:6.28,2855\\r'0:0:6.29,2899\\r'0:0:6.3,2893\\r'0:0:6.31,2919\\r'0:0:6.32,2924\\r'0:0:6.33,2892\\r'0:0:6.34,2862\\r'0:0:6.35,2834\\r'0:0:6.36,2860\\r'0:0:6.37,2817\\r'0:0:6.38,2808\\r'0:0:6.39,2852\\r'0:0:6.4,2813\\r'0:0:6.41,2972\\r'0:0:6.42,3339\\r'0:0:6.43,3353\\r'0:0:6.44,3037\\r'0:0:6.45,2843\\r'0:0:6.46,2849\\r'0:0:6.47,2850\\r'0:0:6.48,2871\\r'0:0:6.49,2923\\r'0:0:6.5,2890\\r'0:0:6.51,2883\\r'0:0:6.52,2894\\r'0:0:6.53,2896\\r'0:0:6.54,2945\\r'0:0:6.55,2936\\r'0:0:6.56,2928\\r'0:0:6.57,2947\\r'0:0:6.58,2951\\r'0:0:6.59,2994\\r'0:0:6.6,2999\\r'0:0:6.61,2996\\r'0:0:6.62,3005\\r'0:0:6.63,3019\\r'0:0:6.64,3077\\r'0:0:6.65,3116\\r'0:0:6.66,3102\\r'0:0:6.67,3144\\r'0:0:6.68,3218\\r'0:0:6.69,3228\\r'0:0:6.7,3208\\r'0:0:6.71,3237\\r'0:0:6.72,3230\\r'0:0:6.73,3183\\r'0:0:6.74,3105\\r'0:0:6.75,2976\\r'0:0:6.76,2938\\r'0:0:6.77,2878\\r'0:0:6.78,2849\\r'0:0:6.79,2838\\r'0:0:6.8,2779\\r'0:0:6.81,2796\\r'0:0:6.82,2815\\r'0:0:6.83,2834\\r'0:0:6.84,2825\\r'0:0:6.85,2800\\r'0:0:6.86,2837\\r'0:0:6.87,2819\\r'0:0:6.88,2793\\r'0:0:6.89,2806\\r'0:0:6.9,2821\\r'0:0:6.91,2868\\r'0:0:6.92,2845\\r'0:0:6.93,2807\\r'0:0:6.94,2832\\r'0:0:6.95,2816\\r'0:0:6.96,2848\\r'0:0:6.97,2829\\r'0:0:6.98,2796\\r'0:0:6.99,2849\\r'0:0:7.0,2820\\r'0:0:7.01,2817\\r'0:0:7.02,2818\\r'0:0:7.03,2813\\r'0:0:7.04,2839\\r'0:0:7.05,2824\\r'0:0:7.06,2813\\r'0:0:7.07,2809\\r'0:0:7.08,2818\\r'0:0:7.09,2851\\r'0:0:7.1,2837\\r'0:0:7.11,2840\\r'0:0:7.12,2839\\r'0:0:7.13,2815\\r'0:0:7.14,2865\\r'0:0:7.15,2864\\r'0:0:7.16,2856\\r'0:0:7.17,2898\\r'0:0:7.18,2884\\r'0:0:7.19,2802\\r'0:0:7.2,2765\\r'0:0:7.21,2818\\r'0:0:7.22,2767\\r'0:0:7.23,2760\\r'0:0:7.24,2819\\r'0:0:7.25,2769\\r'0:0:7.26,2923\\r'0:0:7.27,3282\\r'0:0:7.28,3240\\r'0:0:7.29,2864\\r'0:0:7.3,2670\\r'0:0:7.31,2725\\r'0:0:7.32,2807\\r'0:0:7.33,2810\\r'0:0:7.34,2824\\r'0:0:7.35,2834\\r'0:0:7.36,2840\\r'0:0:7.37,2835\\r'0:0:7.38,2838\\r'0:0:7.39,2857\\r'0:0:7.4,2851\\r'0:0:7.41,2865\\r'0:0:7.42,2880\\r'0:0:7.43,2896\\r'0:0:7.44,2891\\r'0:0:7.45,2908\\r'0:0:7.46,2979\\r'0:0:7.47,2961\\r'0:0:7.48,2962\\r'0:0:7.49,3026\\r'0:0:7.5,2998\\r'0:0:7.51,3039\\r'0:0:7.52,3113\\r'0:0:7.53,3116\\r'0:0:7.54,3145\\r'0:0:7.55,3139\\r'0:0:7.56,3159\\r'0:0:7.57,3167\\r'0:0:7.58,3106\\r'0:0:7.59,3024\\r'0:0:7.6,2918\\r'0:0:7.61,2852\\r'0:0:7.62,2828\\r'0:0:7.63,2774\\r'0:0:7.64,2755\\r'0:0:7.65,2757\\r'0:0:7.66,2745\\r'0:0:7.67,2744\\r'0:0:7.68,2766\\r'0:0:7.69,2769\\r'0:0:7.7,2755\\r'0:0:7.71,2791\\r'0:0:7.72,2795\\r'0:0:7.73,2784\\r'0:0:7.74,2785\\r'0:0:7.75,2743\\r'0:0:7.76,2775\\r'0:0:7.77,2794\\r'0:0:7.78,2783\\r'0:0:7.79,2774\\r'0:0:7.8,2732\\r'0:0:7.81,2775\\r'0:0:7.82,2768\\r'0:0:7.83,2744\\r'0:0:7.84,2788\\r'0:0:7.85,2774\\r'0:0:7.86,2755\\r'0:0:7.87,2753\\r'0:0:7.88,2754\\r'0:0:7.89,2774\\r'0:0:7.9,2761\\r'0:0:7.91,2780\\r'0:0:7.92,2786\\r'0:0:7.93,2782\\r'0:0:7.94,2802\\r'0:0:7.95,2783\\r'0:0:7.96,2822\\r'0:0:7.97,2837\\r'0:0:7.98,2807\\r'0:0:7.99,2794\\r'0:0:8.0,2755\\r'0:0:8.01,2756\\r'0:0:8.02,2748\\r'0:0:8.03,2746\\r'0:0:8.04,2743\\r'0:0:8.05,2725\\r'0:0:8.06,2725\\r'0:0:8.07,2780\\r'0:0:8.08,3059\\r'0:0:8.09,3253\\r'0:0:8.1,2918\\r'0:0:8.11,2626\\r'0:0:8.12,2714\\r'0:0:8.13,2794\\r'0:0:8.14,2750\\r'0:0:8.15,2739\\r'0:0:8.16,2810\\r'0:0:8.17,2784\\r'0:0:8.18,2787\\r'0:0:8.19,2829\\r'0:0:8.2,2800\\r'0:0:8.21,2817\\r'0:0:8.22,2818\\r'0:0:8.23,2788\\r'0:0:8.24,2824\\r'0:0:8.25,2849\\r'0:0:8.26,2855\\r'0:0:8.27,2854\\r'0:0:8.28,2907\\r'0:0:8.29,2898\\r'0:0:8.3,2863\\r'0:0:8.31,2951\\r'0:0:8.32,2977\\r'0:0:8.33,2970\\r'0:0:8.34,3033\\r'0:0:8.35,3053\\r'0:0:8.36,3083\\r'0:0:8.37,3088\\r'0:0:8.38,3064\\r'0:0:8.39,3044\\r'0:0:8.4,2961\\r'0:0:8.41,2907\\r'0:0:8.42,2834\\r'0:0:8.43,2760\\r'0:0:8.44,2753\\r'0:0:8.45,2730\\r'0:0:8.46,2728\\r'0:0:8.47,2716\\r'0:0:8.48,2719\\r'0:0:8.49,2766\\r'0:0:8.5,2724\\r'0:0:8.51,2721\\r'0:0:8.52,2739\\r'0:0:8.53,2752\\r'0:0:8.54,2778\\r'0:0:8.55,2743\\r'0:0:8.56,2803\\r'0:0:8.57,2822\\r'0:0:8.58,2795\\r'0:0:8.59,2797\\r'0:0:8.6,2773\\r'0:0:8.61,2804\\r'0:0:8.62,2773\\r'0:0:8.63,2770\\r'0:0:8.64,2819\\r'0:0:8.65,2811\\r'0:0:8.66,2842\\r'0:0:8.67,2830\\r'0:0:8.68,2787\\r'0:0:8.69,2816\\r'0:0:8.7,2835\\r'0:0:8.71,2857\\r'0:0:8.72,2872\\r'0:0:8.73,2869\\r'0:0:8.74,2890\\r'0:0:8.75,2869\\r'0:0:8.76,2891\\r'0:0:8.77,2900\\r'0:0:8.78,2904\\r'0:0:8.79,2981\\r'0:0:8.8,2988\\r'0:0:8.81,3005\\r'0:0:8.82,2957\\r'0:0:8.83,2903\\r'0:0:8.84,2931\\r'0:0:8.85,2930\\r'0:0:8.86,2945\\r'0:0:8.87,2920\\r'0:0:8.88,2924\\r'0:0:8.89,2977\\r'0:0:8.9,3057\\r'0:0:8.91,3283\\r'0:0:8.92,3260\\r'0:0:8.93,3005\\r'0:0:8.94,2956\\r'0:0:8.95,2993\\r'0:0:8.96,3056\\r'0:0:8.97,3066\\r'0:0:8.98,3021\\r'0:0:8.99,3051\\r'0:0:9.0,3085\\r'0:0:9.01,3080\\r'0:0:9.02,3079\\r'0:0:9.03,3062\\r'0:0:9.04,3115\\r'0:0:9.05,3157\\r'0:0:9.06,3124\\r'0:0:9.07,3100\\r'0:0:9.08,3143\\r'0:0:9.09,3179\\r'0:0:9.1,3162\\r'0:0:9.11,3189\\r'0:0:9.12,3206\\r'0:0:9.13,3246\\r'0:0:9.14,3272\\r'0:0:9.15,3264\\r'0:0:9.16,3292\\r'0:0:9.17,3310\\r'0:0:9.18,3360\\r'0:0:9.19,3398\\r'0:0:9.2,3369\\r'0:0:9.21,3361\\r'0:0:9.22,3320\\r'0:0:9.23,3252\\r'0:0:9.24,3140\\r'0:0:9.25,3041\\r'0:0:9.26,3040\\r'0:0:9.27,3041\\r'0:0:9.28,3011\\r'0:0:9.29,2951\\r'0:0:9.3,2937\\r'0:0:9.31,2988\\r'0:0:9.32,2966\\r'0:0:9.33,2923\\r'0:0:9.34,2930\\r'0:0:9.35,2904\\r'0:0:9.36,2888\\r'0:0:9.37,2874\\r'0:0:9.38,2859\\r'0:0:9.39,2886\\r'0:0:9.4,2840\\r'0:0:9.41,2820\\r'0:0:9.42,2812\\r'0:0:9.43,2774\\r'0:0:9.44,2785\\r'0:0:9.45,2760\\r'0:0:9.46,2740\\r'0:0:9.47,2720\\r'0:0:9.48,2688\\r'0:0:9.49,2680\\r'0:0:9.5,2634\\r'0:0:9.51,2641\\r'0:0:9.52,2632\\r'0:0:9.53,2609\\r'0:0:9.54,2615\\r'0:0:9.55,2549\\r'0:0:9.56,2531\\r'0:0:9.57,2518\\r'0:0:9.58,2503\\r'0:0:9.59,2503\\r'0:0:9.6,2449\\r'0:0:9.61,2432\\r'0:0:9.62,2436\\r'0:0:9.63,2426\\r'0:0:9.64,2366\\r'0:0:9.65,2304\\r'0:0:9.66,2296\\r'0:0:9.67,2239\\r'0:0:9.68,2195\\r'0:0:9.69,2180\\r'0:0:9.7,2133\\r'0:0:9.71,2154\\r'0:0:9.72,2210\\r'0:0:9.73,2396\\r'0:0:9.74,2452\\r'0:0:9.75,2135\\r'0:0:9.76,1979\\r'0:0:9.77,2023\\r'0:0:9.78,2038\\r'0:0:9.79,2051\\r'0:0:9.8,2009\\r'0:0:9.81,2002\\r'0:0:9.82,2002\\r'0:0:9.83,2005\\r'0:0:9.84,1995\\r'0:0:9.85,1921\\r'0:0:9.86,1946\\r'0:0:9.87,1954\\r'0:0:9.88,1938\\r'0:0:9.89,1944\\r'0:0:9.9,1899\\r'0:0:9.91,1938\\r'0:0:9.92,1931\\r'0:0:9.93,1893\\r'0:0:9.94,1910\\r'0:0:9.95,1934\\r'0:0:9.96,1967\\r'0:0:9.97,1927\\r'0:0:9.98,1949\\r'0:0:9.99,2022\\r'0:0:10.0,1994\\r\\rsys info:[91~54~52~93~44~91~34~50~53~126~49~126~49~126~49~126~35~49~55~51~48~97~57~126~76~101~102~116~126~52~48~57~50~126~48~126~89~101~115~34~93~44~91~34~82~97~116~101~34~93~44~91~53~93~44~91~34~82~101~115~101~114~118~101~34~93~44~91~34~78~111~110~101~34~93~44~91~34~84~111~116~97~108~95~115~97~109~112~108~101~115~34~93~44~91~49~48~48~49~93~44~91~34~69~120~112~32~73~68~34~93~44~91~34~50~48~49~56~45~48~56~45~48~50~32~49~51~58~50~48~58~51~49~46~54~49~50~48~48~48~34~93]\\r\\rAttention! Any change in the file may prevent NeuLog from reading its data.\\r\"}"
            ]
          },
          "metadata": {
            "tags": []
          },
          "execution_count": 43
        }
      ]
    },
    {
      "cell_type": "code",
      "metadata": {
        "id": "o8opPwP1FZSE",
        "colab_type": "code",
        "colab": {}
      },
      "source": [
        "df2 = pd.read_csv('medlyticsfinalprojecttest.csv')\n",
        "df2 = df2.drop(df2.index[1007:1009])\n",
        "df2 = df2.drop(df2.index[0:6])\n",
        "heart_array = np.array(df2[str('medlyticsfinalprojecttest')])"
      ],
      "execution_count": 0,
      "outputs": []
    },
    {
      "cell_type": "code",
      "metadata": {
        "id": "zh5OychB2cHS",
        "colab_type": "code",
        "outputId": "7dedf742-f679-432d-92ff-719daf4f6f0a",
        "colab": {
          "base_uri": "https://localhost:8080/",
          "height": 184
        }
      },
      "source": [
        "print(heart_array.shape, heart_array)\n",
        "print(nan_array.shape, nan_array)\n",
        "print(nan_df.shape)\n",
        "print(new_nan_array.shape, new_nan_array)"
      ],
      "execution_count": 0,
      "outputs": [
        {
          "output_type": "stream",
          "text": [
            "((1001,), array(['4050', '4048', '4048', ..., '1949', '2022', '1994'], dtype=object))\n",
            "((3003,), array([4050.,   nan,   nan, ..., 1994.,   nan,   nan]))\n",
            "(3003, 1)\n",
            "((3003, 1), array([[-0.06453667],\n",
            "       [-0.65003127],\n",
            "       [-1.23549284],\n",
            "       ...,\n",
            "       [ 4.91193184],\n",
            "       [ 0.99338966],\n",
            "       [-2.75820291]]))\n"
          ],
          "name": "stdout"
        }
      ]
    },
    {
      "cell_type": "code",
      "metadata": {
        "id": "KyMDUrsIGkZ6",
        "colab_type": "code",
        "colab": {}
      },
      "source": [
        "nan_array = np.zeros(3*heart_array.shape[0], dtype=float)\n",
        "for i in range(3*len(heart_array)):\n",
        "  if i % 3 != 0:\n",
        "    nan_array[i] = np.nan\n",
        "  else:\n",
        "    nan_array[i] = heart_array[i//3]"
      ],
      "execution_count": 0,
      "outputs": []
    },
    {
      "cell_type": "code",
      "metadata": {
        "id": "GhM9wul6GtBS",
        "colab_type": "code",
        "colab": {}
      },
      "source": [
        "nan_df = pd.DataFrame(data=nan_array)\n",
        "nan_df = nan_df.interpolate(method='linear')\n",
        "\n",
        "a, b = butter(5, .05, 'highpass')\n",
        "new_nan_array = filtfilt(a, b, nan_df, axis=0)"
      ],
      "execution_count": 0,
      "outputs": []
    },
    {
      "cell_type": "code",
      "metadata": {
        "id": "EgHTDyHoGz_r",
        "colab_type": "code",
        "colab": {}
      },
      "source": [
        "#new_nan_array = new_nan_array.reshape(1, new_nan_array.shape[0])\n",
        "heart_dict = {'val': new_nan_array}\n",
        "type(heart_dict['val']), heart_dict['val']\n",
        "heart_dict_r = np.reshape(heart_dict['val'], (1, 3003))\n"
      ],
      "execution_count": 0,
      "outputs": []
    },
    {
      "cell_type": "code",
      "metadata": {
        "id": "OB8w23gg0Af_",
        "colab_type": "code",
        "outputId": "ace4d0ab-6c2d-4cff-9c0b-5168aaad8bec",
        "colab": {
          "base_uri": "https://localhost:8080/",
          "height": 33
        }
      },
      "source": [
        "\n",
        "#heart_dict_r = {'val':heart_dict_r.astype('int16')}\n",
        "heart_dict_r, heart_dict_r['val'].shape"
      ],
      "execution_count": 0,
      "outputs": [
        {
          "output_type": "execute_result",
          "data": {
            "text/plain": [
              "({'val': array([[ 0,  0, -1, ...,  4,  0, -2]], dtype=int16)}, (1, 3003))"
            ]
          },
          "metadata": {
            "tags": []
          },
          "execution_count": 77
        }
      ]
    },
    {
      "cell_type": "code",
      "metadata": {
        "id": "cFNc8uI_0mVP",
        "colab_type": "code",
        "colab": {}
      },
      "source": [
        "neulog_data = neulog_signal_array(new_nan_array[0])"
      ],
      "execution_count": 0,
      "outputs": []
    },
    {
      "cell_type": "code",
      "metadata": {
        "id": "1w-zAXsM2-9n",
        "colab_type": "code",
        "outputId": "6f2b34cb-4b98-4b4b-c36b-b958d8a1a29e",
        "colab": {
          "base_uri": "https://localhost:8080/",
          "height": 50
        }
      },
      "source": [
        "neulog_data"
      ],
      "execution_count": 0,
      "outputs": [
        {
          "output_type": "execute_result",
          "data": {
            "text/plain": [
              "array([[-5.47631263e+01,  1.82604622e-02,  1.82604622e-02, ...,\n",
              "         1.82604622e-02,  1.82604622e-02,  1.82604622e-02]])"
            ]
          },
          "metadata": {
            "tags": []
          },
          "execution_count": 88
        }
      ]
    },
    {
      "cell_type": "code",
      "metadata": {
        "id": "n7cYnFQQyjP1",
        "colab_type": "code",
        "outputId": "a0e527a4-24db-42db-b435-cc25dc411ea6",
        "colab": {
          "base_uri": "https://localhost:8080/",
          "height": 234
        }
      },
      "source": [
        "os.chdir('./train1')\n",
        "signal = loadmat('./A00001.mat')\n",
        "type(signal['val']), signal['val']\n",
        "os.chdir('..')\n",
        "print(signal_array(0, 100))"
      ],
      "execution_count": 0,
      "outputs": [
        {
          "output_type": "stream",
          "text": [
            "[[-4.74243726e-03 -2.33176896e-01 -4.62694361e-01 ... -2.45292442e-01\n",
            "  -2.85051773e-01 -3.10491813e-01]\n",
            " [-3.78529151e-02  1.36643313e-01  3.46775287e-01 ...  2.69076667e-01\n",
            "   2.55346409e-01  2.37949328e-01]\n",
            " [ 1.99379217e-01  3.69741750e-01  4.49934711e-01 ...  1.83755707e+00\n",
            "   1.91461563e+00  1.91470867e+00]\n",
            " ...\n",
            " [ 8.37463351e-02 -6.24785482e-02 -1.61363328e-01 ...  4.85696831e-01\n",
            "   3.91356851e-01  2.93430365e-01]\n",
            " [ 1.67526005e-01 -2.10400765e-01 -5.94476875e-01 ...  3.94979409e-02\n",
            "   3.47162763e-02  4.06627358e-02]\n",
            " [-8.89037523e-03 -1.86060771e-03  5.02699623e-03 ... -3.53360746e-02\n",
            "  -6.77781208e-03  2.60482298e-02]]\n"
          ],
          "name": "stdout"
        }
      ]
    },
    {
      "cell_type": "code",
      "metadata": {
        "id": "fRFaF_TQVAXu",
        "colab_type": "code",
        "colab": {}
      },
      "source": [
        "def get_sample_data(i):\n",
        "    file = \"./train\" + str(int(i/1000+1)) + \"/\" + df.loc[i, \"record name\"] + '.mat'\n",
        "    sample = loadmat('./' + file)[\"val\"]\n",
        "    a, b = butter(5, .05, 'highpass')\n",
        "    signal = filtfilt(a, b, sample[0])\n",
        "    \"\"\" sample and file.split('/')[2] same as get_random_data() output \"\"\"\n",
        "    return signal\n",
        "  \n",
        "def signal_array(start, end):\n",
        "  features = np.ndarray(shape = ((end-start), 3000))\n",
        "  for i in range(start, end):\n",
        "    sample = get_sample_data(i)\n",
        "    \n",
        "    if(len(sample) < 3000):\n",
        "      features[i - start] = np.pad(sample, \n",
        "                                   pad_width = (0, 3000-len(sample)),\n",
        "                                   mode = 'constant',\n",
        "                                   constant_values = 0)\n",
        "    else:\n",
        "      features[i - start] = sample[0:3000]\n",
        "    \n",
        "    features[i - start] = (features[i - start]-np.mean(features[i - start]))/np.std(features[i - start])\n",
        "   \n",
        "  return features\n",
        "\n",
        "def neulog_signal_array(neulog_signal):\n",
        "  neulog_features = np.ndarray(shape = (1, 3000))\n",
        "  for i in range(0, 1):\n",
        "    if(len(neulog_signal) < 3000):\n",
        "      neulog_features[i] = np.pad(neulog_signal,\n",
        "                                  pad_width = (0, 3000-len(neulog_signal)),\n",
        "                                  mode = 'constant')\n",
        "                                  #constant_values = 0)\n",
        "    \n",
        "    else:\n",
        "      neulog_features[i] = neulog_signal[0:3000]\n",
        "      \n",
        "    neulog_features[i] = (neulog_features[i]-np.mean(neulog_features[i]))/np.std(neulog_features[i])\n",
        "      \n",
        "  return neulog_features\n",
        "\n",
        "def reshape_for_NN(arr):\n",
        "  arr = arr.reshape(arr.shape[0], arr.shape[1], 1)\n",
        "  return arr\n",
        "  \n",
        "def get_fft_signals(sample):\n",
        "    num_datapoints = len(sample['Signal'][0])\n",
        "    fft_signals_x = np.arange(num_datapoints//2 + 1)/60\n",
        "    fft_signals_y = np.ndarray(shape = (7, num_datapoints//2 + 1))\n",
        "    for counter, signal in enumerate(np.fft.rfft(np.transpose(sample['Signal'][0]))):\n",
        "        fft_signals_y[counter] = np.abs(signal)\n",
        "    \"\"\" tuple: fft_signals_x (ndarray) stores fft signal frequencies in hertz; fft_signals_y (ndarray) stores amplitude for every frequency; 'FFT' stores signal type \"\"\"\n",
        "    return (fft_signals_x, fft_signals_y, 'FFT')\n",
        "  \n",
        "def get_signals(sample):\n",
        "    raw_signals = get_raw_signals(sample)\n",
        "    fft_signals = get_fft_signals(sample)\n",
        "    \"\"\" raw_signals and fft_signals same as get_raw_signals() and get_fft_signals() output, respectively \"\"\"\n",
        "    return raw_signals, fft_signals"
      ],
      "execution_count": 0,
      "outputs": []
    },
    {
      "cell_type": "code",
      "metadata": {
        "id": "SHqlvrAfBpE3",
        "colab_type": "code",
        "colab": {}
      },
      "source": [
        "def calc_rr(signal):\n",
        "    '''Calculates the R-R (peak-peak) data required for further analysis.\n",
        "    Uses calculated measures stored in the working_data{} dict to calculate\n",
        "    all required peak-peak datasets. Stores results in the working_data{} dict.\n",
        "    Keyword arguments:\n",
        "    sample_rate -- the sample rate of the data set\n",
        "    '''\n",
        "    #peaklist = np.array(working_data['peaklist'])\n",
        "    peaklist = peakutils.indexes(signal[0], thres = .5)\n",
        "    sample_rate = 300.\n",
        "    #delete first peak if within first 150ms (signal might start mid-beat after peak)\n",
        "    #if len(peaklist) > 0:\n",
        "    #    if peaklist[0] <= ((sample_rate / 1000.0) * 150):\n",
        "    #        peaklist = np.delete(peaklist, 0)\n",
        "            #working_data['peaklist'] = peaklist\n",
        "            #working_data['ybeat'] = np.delete(working_data['ybeat'], 0)\n",
        "\n",
        "    rr_list = (np.diff(peaklist) / sample_rate) * 1000.0\n",
        "    rr_diff = np.abs(np.diff(rr_list))\n",
        "    rr_sqdiff = np.power(rr_diff, 2)\n",
        "    return rr_diff#rr_list\n",
        "\n",
        "def get_periodicity(signal):\n",
        "  return np.var(calc_rr(signal))\n",
        "\n",
        "def calc_RMSSD(rr_list):\n",
        "  N = len(rr_list)\n",
        "  sum_sq = sum([i**2 for i in rr_list])\n",
        "  frac = 1/float(N-1)\n",
        "  return (frac*sum_sq)**.5"
      ],
      "execution_count": 0,
      "outputs": []
    },
    {
      "cell_type": "code",
      "metadata": {
        "id": "NWZIcELJ5Aeu",
        "colab_type": "code",
        "colab": {}
      },
      "source": [
        "def get_bar_fft(signal): #bar version of fft\n",
        "  L = len(signal)\n",
        "  fft = np.fft.rfft(signal)[:1000]\n",
        "  Fs = 300\n",
        "  t = np.arange(L/2 +1)/(L/Fs) \n",
        "  barx=np.linspace(0, 1000, 20) #only does the first 1000 in the fft\n",
        "                                #returns 21 numbers\n",
        "  bary = np.zeros(shape=barx.shape)\n",
        "\n",
        "  for x in range(len(barx)-1):\n",
        "    bary[x] = sum(abs(fft[int(barx[x]):int(barx[x+1])]))\n",
        "\n",
        "  #bary = bary/sum(bary)\n",
        "  return bary"
      ],
      "execution_count": 0,
      "outputs": []
    },
    {
      "cell_type": "code",
      "metadata": {
        "id": "XZ78kFiEV6yy",
        "colab_type": "code",
        "colab": {}
      },
      "source": [
        "def get_variance(signals, frame, interval):\n",
        "    partial_array = np.ndarray(shape = (signals.shape[0], \n",
        "                                       (signals.shape[0]-frame)//interval+1))\n",
        "    for signal_index, signal in enumerate(signals):\n",
        "        for partial_index in range((signal.shape[0]-frame)//interval+1):\n",
        "            \n",
        "            \"\"\" Change feature extraction here \"\"\"\n",
        "            partial_array[signal_index][partial_index] = np.var(signal[(interval*partial_index):(interval*partial_index)+frame])\n",
        "     \n",
        "    \"\"\" partial_array (ndarray) stores multiple features for each signal\"\"\"\n",
        "    return partial_array\n",
        "  \n",
        "def consolidate(signals):\n",
        "    total_array = np.ndarray(shape = (signals.shape[0], 1))\n",
        "    for signal_index, signal in enumerate(signals):\n",
        "        \n",
        "        \"\"\" Change feature extraction here \"\"\"\n",
        "        if np.sum(signal)>0:\n",
        "            total_array[signal_index] = int(np.max(signal)/np.sum(signal)*100)\n",
        "        else:\n",
        "            total_array[signal_index] = 0\n",
        "            \n",
        "    \"\"\" total_array (ndarray) stores single feature for each signal \"\"\"\n",
        "    return total_array\n",
        "  \n",
        "def get_features(start, end):\n",
        "    features = np.array([])\n",
        "    for i in range(start, end):\n",
        "        sample = get_sample_data(i)/1000.\n",
        "        f1 = consolidate(get_variance(sample, 200, 200))\n",
        "        f2 = get_periodicity(sample)\n",
        "        f3 = get_bar_fft(np.array(sample)[0])\n",
        "        feature_array = np.concatenate((f1[0].flatten(), [f2], f3.flatten()))\n",
        "        features = np.append(features, feature_array)#np.hstack((f1[0][0], f2)))\n",
        "    \"\"\" np.transpose(features) (ndarray) stores final features for training/testing; order (ndarray) stores order in which samples were retrieved \"\"\"\n",
        "    return np.transpose(features)\n",
        "  \n",
        "def get_neulog_features(neulog_signal):\n",
        "  neulog_features = np.array([])\n",
        "  for i in range(0, 1):\n",
        "    sample = neulog_signal/1000.\n",
        "    f1 = consolidate(get_variance(sample, 200, 200))\n",
        "    f2 = get_periodicity(sample)\n",
        "    f3 = get_bar_fft(np.array(sample)[0])\n",
        "    feature_array = np.concatenate((f1[0].flatten(), [f2], f3.flatten()))\n",
        "    features = np.append(features, feature_array)\n",
        "  return np.transpose(features)"
      ],
      "execution_count": 0,
      "outputs": []
    },
    {
      "cell_type": "code",
      "metadata": {
        "id": "4EKu-GphS-E5",
        "colab_type": "code",
        "colab": {}
      },
      "source": [
        "'''\n",
        "temp_data = get_features(0, 7248)\n",
        "test_data = get_features(7248, 8528)\n",
        "\n",
        "#labels = tf.keras.utils.to_categorical(labels)\n",
        "temp_labels = labels[:8000]\n",
        "test_labels = labels[8000:8528]\n",
        "\n",
        "temp_shape = 8000, int(temp_data.shape[0]/8000)\n",
        "test_shape = 528, int(test_data.shape[0]/528)\n",
        "\n",
        "temp_data = temp_data.reshape(temp_shape)\n",
        "test_data = test_data.reshape(test_shape)\n",
        "temp_labels = label_binarize(temp_labels, classes=[0, 1, 2, 3])\n",
        "\n",
        "X_train, X_val, y_train, y_val = train_test_split(temp_data, temp_labels, test_size = 0.25)\n",
        "\n",
        "Xr_train, yr_train = ov_sampler.fit_sample(X_train, y_train)\n",
        "\n",
        "yr_train, y_val = tf.keras.utils.to_categorical(yr_train, num_classes = 4), tf.keras.utils.to_categorical(y_val, num_classes = 4)\n",
        "'''\n",
        "from sklearn.utils import shuffle\n",
        "tv_data = signal_array(0, 8528)\n",
        "\n",
        "X = tv_data[0:7248]\n",
        "Y = df['labels'][0:7248]\n",
        "\n",
        "ov_sampler = imb.SMOTE()\n",
        "\n",
        "X_train, X_val, y_train, y_val = train_test_split(X, Y, test_size = .25)\n",
        "\n",
        "Xr_train, yr_train = ov_sampler.fit_sample(X_train, y_train)\n",
        "\n",
        "#Xr_train, X_val = reshape_for_NN(Xr_train), reshape_for_NN(X_val)\n",
        "\n",
        "yr_train, y_val = tf.keras.utils.to_categorical(yr_train, num_classes = 4), tf.keras.utils.to_categorical(y_val, num_classes = 4)\n",
        "\n",
        "test_data = tv_data[7248:8528]\n",
        "test_labels = df['labels'][7248:8528]\n"
      ],
      "execution_count": 0,
      "outputs": []
    },
    {
      "cell_type": "code",
      "metadata": {
        "id": "E1knInWSwYvy",
        "colab_type": "code",
        "colab": {}
      },
      "source": [
        "#train_data = train_data.reshape(6000,22)"
      ],
      "execution_count": 0,
      "outputs": []
    },
    {
      "cell_type": "code",
      "metadata": {
        "id": "1dKu2ukM1Pqj",
        "colab_type": "code",
        "colab": {}
      },
      "source": [
        "#val_data = val_data.astype('float32')\n",
        "#val_data = val_data.reshape((2000, 22))"
      ],
      "execution_count": 0,
      "outputs": []
    },
    {
      "cell_type": "code",
      "metadata": {
        "id": "7jNZAbFTLDYD",
        "colab_type": "code",
        "outputId": "a948f186-15d2-41d6-83e4-e287c2151571",
        "colab": {
          "base_uri": "https://localhost:8080/",
          "height": 347
        }
      },
      "source": [
        "#a, b = butter(5, .05, 'highpass')\n",
        "#new_nan_df = filtfilt(a, b, nan_array, axis=0)\n",
        "\n",
        "plt.plot(nan_df, 'g')\n",
        "plt.plot(new_nan_array, 'b') # # r:red -:line, b:blue s:square\n",
        "plt.show()"
      ],
      "execution_count": 0,
      "outputs": [
        {
          "output_type": "display_data",
          "data": {
            "image/png": "[encoded data removed]",
            "text/plain": [
              "<matplotlib.figure.Figure at 0x7f66831d2890>"
            ]
          },
          "metadata": {
            "tags": []
          }
        }
      ]
    },
    {
      "cell_type": "code",
      "metadata": {
        "id": "zEumjc-penrf",
        "colab_type": "code",
        "colab": {}
      },
      "source": [
        "model = RandomForestClassifier(n_estimators=20, criterion='entropy', max_depth=14, min_samples_split=3, min_samples_leaf=4, random_state=None)\n",
        "#model = SVC(C=1.0, kernel='rbf', gamma='auto', class_weight=None, verbose=False, decision_function_shape='ovr', random_state=0)\n",
        "#model = DecisionTreeClassifier(criterion='entropy', max_depth=10, min_samples_split=2, min_samples_leaf=1, random_state=0, class_weight=None)\n",
        "#model = KNeighborsClassifier(n_neighbors=30, weights='uniform', algorithm='auto', leaf_size=30, p=2)\n",
        "for i in range(len(Xr_train)):\n",
        "  Xr_train[i] = np.nan_to_num(Xr_train[i])     \n",
        "for i in range(len(X_val)):\n",
        "  X_val[i] = np.nan_to_num(X_val[i])"
      ],
      "execution_count": 0,
      "outputs": []
    },
    {
      "cell_type": "code",
      "metadata": {
        "id": "JzilCgP_UCaQ",
        "colab_type": "code",
        "outputId": "2fff6aa7-be44-49ef-e4c4-b378679e9df2",
        "colab": {
          "base_uri": "https://localhost:8080/",
          "height": 35
        }
      },
      "source": [
        "X_val = X_val.reshape(1812, 3000)\n",
        "Xr_train = Xr_train.reshape(12840, 3000)\n",
        "nan_array.shape"
      ],
      "execution_count": 0,
      "outputs": [
        {
          "output_type": "execute_result",
          "data": {
            "text/plain": [
              "(3003,)"
            ]
          },
          "metadata": {
            "tags": []
          },
          "execution_count": 25
        }
      ]
    },
    {
      "cell_type": "code",
      "metadata": {
        "id": "1g3POD0OhH28",
        "colab_type": "code",
        "outputId": "3be6e54b-59db-447b-ade4-c220fe51af1f",
        "colab": {
          "base_uri": "https://localhost:8080/",
          "height": 141
        }
      },
      "source": [
        "model.fit(Xr_train, yr_train)"
      ],
      "execution_count": 0,
      "outputs": [
        {
          "output_type": "execute_result",
          "data": {
            "text/plain": [
              "RandomForestClassifier(bootstrap=True, class_weight=None, criterion='entropy',\n",
              "            max_depth=14, max_features='auto', max_leaf_nodes=None,\n",
              "            min_impurity_decrease=0.0, min_impurity_split=None,\n",
              "            min_samples_leaf=4, min_samples_split=3,\n",
              "            min_weight_fraction_leaf=0.0, n_estimators=20, n_jobs=1,\n",
              "            oob_score=False, random_state=None, verbose=0,\n",
              "            warm_start=False)"
            ]
          },
          "metadata": {
            "tags": []
          },
          "execution_count": 26
        }
      ]
    },
    {
      "cell_type": "code",
      "metadata": {
        "id": "V02a800Of-No",
        "colab_type": "code",
        "colab": {}
      },
      "source": [
        "y_val_predict = model.predict(X_val)\n",
        "y_train_predict = model.predict(Xr_train)"
      ],
      "execution_count": 0,
      "outputs": []
    },
    {
      "cell_type": "code",
      "metadata": {
        "id": "Jvn5ld9wR2DV",
        "colab_type": "code",
        "outputId": "0964aa65-522c-41a0-b40b-5dd41bf207a1",
        "colab": {
          "base_uri": "https://localhost:8080/",
          "height": 295
        }
      },
      "source": [
        "neulog_data = neulog_signal_array(heart_dict)\n",
        "#neulog_data = get_neulog_features(new_nan_array)"
      ],
      "execution_count": 0,
      "outputs": [
        {
          "output_type": "error",
          "ename": "TypeError",
          "evalue": "ignored",
          "traceback": [
            "\u001b[0;31m\u001b[0m",
            "\u001b[0;31mTypeError\u001b[0mTraceback (most recent call last)",
            "\u001b[0;32m<ipython-input-18-127090b73287>\u001b[0m in \u001b[0;36m<module>\u001b[0;34m()\u001b[0m\n\u001b[0;32m----> 1\u001b[0;31m \u001b[0mneulog_data\u001b[0m \u001b[0;34m=\u001b[0m \u001b[0mneulog_signal_array\u001b[0m\u001b[0;34m(\u001b[0m\u001b[0mheart_dict\u001b[0m\u001b[0;34m)\u001b[0m\u001b[0;34m\u001b[0m\u001b[0m\n\u001b[0m\u001b[1;32m      2\u001b[0m \u001b[0;31m#neulog_data = get_neulog_features(new_nan_array)\u001b[0m\u001b[0;34m\u001b[0m\u001b[0;34m\u001b[0m\u001b[0m\n",
            "\u001b[0;32m<ipython-input-17-9a31d817cfc6>\u001b[0m in \u001b[0;36mneulog_signal_array\u001b[0;34m(neulog_signal)\u001b[0m\n\u001b[1;32m     31\u001b[0m                                   \u001b[0mpad_width\u001b[0m \u001b[0;34m=\u001b[0m \u001b[0;34m(\u001b[0m\u001b[0;36m0\u001b[0m\u001b[0;34m,\u001b[0m \u001b[0;36m3000\u001b[0m\u001b[0;34m-\u001b[0m\u001b[0mlen\u001b[0m\u001b[0;34m(\u001b[0m\u001b[0mneulog_signal\u001b[0m\u001b[0;34m)\u001b[0m\u001b[0;34m)\u001b[0m\u001b[0;34m,\u001b[0m\u001b[0;34m\u001b[0m\u001b[0m\n\u001b[1;32m     32\u001b[0m                                   \u001b[0mmode\u001b[0m \u001b[0;34m=\u001b[0m \u001b[0;34m'constant'\u001b[0m\u001b[0;34m,\u001b[0m\u001b[0;34m\u001b[0m\u001b[0m\n\u001b[0;32m---> 33\u001b[0;31m                                   constant_values = 0)\n\u001b[0m\u001b[1;32m     34\u001b[0m \u001b[0;34m\u001b[0m\u001b[0m\n\u001b[1;32m     35\u001b[0m     \u001b[0;32melse\u001b[0m\u001b[0;34m:\u001b[0m\u001b[0;34m\u001b[0m\u001b[0m\n",
            "\u001b[0;31mTypeError\u001b[0m: float() argument must be a string or a number"
          ]
        }
      ]
    },
    {
      "cell_type": "code",
      "metadata": {
        "id": "Nn90mh93VE5S",
        "colab_type": "code",
        "outputId": "7acfadba-7ebc-4020-c36a-c456e4e52113",
        "colab": {
          "base_uri": "https://localhost:8080/",
          "height": 35
        }
      },
      "source": [
        "#model.predict(nan_array)\n",
        "model.predict(neulog_data)"
      ],
      "execution_count": 0,
      "outputs": [
        {
          "output_type": "execute_result",
          "data": {
            "text/plain": [
              "array([[nan, nan, nan, ..., nan, nan, nan]])"
            ]
          },
          "metadata": {
            "tags": []
          },
          "execution_count": 64
        }
      ]
    },
    {
      "cell_type": "code",
      "metadata": {
        "id": "W4dcHtoTgK5w",
        "colab_type": "code",
        "outputId": "2eae747d-773b-4291-9a7a-5ba492b99716",
        "colab": {
          "base_uri": "https://localhost:8080/",
          "height": 470
        }
      },
      "source": [
        "from sklearn import metrics\n",
        "print('Training Accuracy:   {:01.3f}'.format(metrics.accuracy_score(Xr_train, y_train_predict)))\n",
        "\n",
        "print('Validation Accuracy: {:01.3f}'.format(metrics.accuracy_score(X_val, y_val_predict)))"
      ],
      "execution_count": 0,
      "outputs": [
        {
          "output_type": "error",
          "ename": "ValueError",
          "evalue": "ignored",
          "traceback": [
            "\u001b[0;31m\u001b[0m",
            "\u001b[0;31mValueError\u001b[0mTraceback (most recent call last)",
            "\u001b[0;32m<ipython-input-44-65f2b029b9f5>\u001b[0m in \u001b[0;36m<module>\u001b[0;34m()\u001b[0m\n\u001b[1;32m      1\u001b[0m \u001b[0;32mfrom\u001b[0m \u001b[0msklearn\u001b[0m \u001b[0;32mimport\u001b[0m \u001b[0mmetrics\u001b[0m\u001b[0;34m\u001b[0m\u001b[0m\n\u001b[0;32m----> 2\u001b[0;31m \u001b[0;32mprint\u001b[0m\u001b[0;34m(\u001b[0m\u001b[0;34m'Training Accuracy:   {:01.3f}'\u001b[0m\u001b[0;34m.\u001b[0m\u001b[0mformat\u001b[0m\u001b[0;34m(\u001b[0m\u001b[0mmetrics\u001b[0m\u001b[0;34m.\u001b[0m\u001b[0maccuracy_score\u001b[0m\u001b[0;34m(\u001b[0m\u001b[0mXr_train\u001b[0m\u001b[0;34m,\u001b[0m \u001b[0my_train_predict\u001b[0m\u001b[0;34m)\u001b[0m\u001b[0;34m)\u001b[0m\u001b[0;34m)\u001b[0m\u001b[0;34m\u001b[0m\u001b[0m\n\u001b[0m\u001b[1;32m      3\u001b[0m \u001b[0;34m\u001b[0m\u001b[0m\n\u001b[1;32m      4\u001b[0m \u001b[0;32mprint\u001b[0m\u001b[0;34m(\u001b[0m\u001b[0;34m'Validation Accuracy: {:01.3f}'\u001b[0m\u001b[0;34m.\u001b[0m\u001b[0mformat\u001b[0m\u001b[0;34m(\u001b[0m\u001b[0mmetrics\u001b[0m\u001b[0;34m.\u001b[0m\u001b[0maccuracy_score\u001b[0m\u001b[0;34m(\u001b[0m\u001b[0mX_val\u001b[0m\u001b[0;34m,\u001b[0m \u001b[0my_val_predict\u001b[0m\u001b[0;34m)\u001b[0m\u001b[0;34m)\u001b[0m\u001b[0;34m)\u001b[0m\u001b[0;34m\u001b[0m\u001b[0m\n",
            "\u001b[0;32m/usr/local/lib/python2.7/dist-packages/sklearn/metrics/classification.pyc\u001b[0m in \u001b[0;36maccuracy_score\u001b[0;34m(y_true, y_pred, normalize, sample_weight)\u001b[0m\n\u001b[1;32m    174\u001b[0m \u001b[0;34m\u001b[0m\u001b[0m\n\u001b[1;32m    175\u001b[0m     \u001b[0;31m# Compute accuracy for each possible representation\u001b[0m\u001b[0;34m\u001b[0m\u001b[0;34m\u001b[0m\u001b[0m\n\u001b[0;32m--> 176\u001b[0;31m     \u001b[0my_type\u001b[0m\u001b[0;34m,\u001b[0m \u001b[0my_true\u001b[0m\u001b[0;34m,\u001b[0m \u001b[0my_pred\u001b[0m \u001b[0;34m=\u001b[0m \u001b[0m_check_targets\u001b[0m\u001b[0;34m(\u001b[0m\u001b[0my_true\u001b[0m\u001b[0;34m,\u001b[0m \u001b[0my_pred\u001b[0m\u001b[0;34m)\u001b[0m\u001b[0;34m\u001b[0m\u001b[0m\n\u001b[0m\u001b[1;32m    177\u001b[0m     \u001b[0;32mif\u001b[0m \u001b[0my_type\u001b[0m\u001b[0;34m.\u001b[0m\u001b[0mstartswith\u001b[0m\u001b[0;34m(\u001b[0m\u001b[0;34m'multilabel'\u001b[0m\u001b[0;34m)\u001b[0m\u001b[0;34m:\u001b[0m\u001b[0;34m\u001b[0m\u001b[0m\n\u001b[1;32m    178\u001b[0m         \u001b[0mdiffering_labels\u001b[0m \u001b[0;34m=\u001b[0m \u001b[0mcount_nonzero\u001b[0m\u001b[0;34m(\u001b[0m\u001b[0my_true\u001b[0m \u001b[0;34m-\u001b[0m \u001b[0my_pred\u001b[0m\u001b[0;34m,\u001b[0m \u001b[0maxis\u001b[0m\u001b[0;34m=\u001b[0m\u001b[0;36m1\u001b[0m\u001b[0;34m)\u001b[0m\u001b[0;34m\u001b[0m\u001b[0m\n",
            "\u001b[0;32m/usr/local/lib/python2.7/dist-packages/sklearn/metrics/classification.pyc\u001b[0m in \u001b[0;36m_check_targets\u001b[0;34m(y_true, y_pred)\u001b[0m\n\u001b[1;32m     79\u001b[0m     \u001b[0;32mif\u001b[0m \u001b[0mlen\u001b[0m\u001b[0;34m(\u001b[0m\u001b[0my_type\u001b[0m\u001b[0;34m)\u001b[0m \u001b[0;34m>\u001b[0m \u001b[0;36m1\u001b[0m\u001b[0;34m:\u001b[0m\u001b[0;34m\u001b[0m\u001b[0m\n\u001b[1;32m     80\u001b[0m         raise ValueError(\"Classification metrics can't handle a mix of {0} \"\n\u001b[0;32m---> 81\u001b[0;31m                          \"and {1} targets\".format(type_true, type_pred))\n\u001b[0m\u001b[1;32m     82\u001b[0m \u001b[0;34m\u001b[0m\u001b[0m\n\u001b[1;32m     83\u001b[0m     \u001b[0;31m# We can't have more than one value on y_type => The set is no more needed\u001b[0m\u001b[0;34m\u001b[0m\u001b[0;34m\u001b[0m\u001b[0m\n",
            "\u001b[0;31mValueError\u001b[0m: Classification metrics can't handle a mix of continuous-multioutput and multilabel-indicator targets"
          ]
        }
      ]
    },
    {
      "cell_type": "code",
      "metadata": {
        "id": "bnBjrH5f1bdW",
        "colab_type": "code",
        "outputId": "9bf1888c-db8b-47d3-dcdc-2779cff2321e",
        "colab": {
          "base_uri": "https://localhost:8080/",
          "height": 399
        }
      },
      "source": [
        "from sklearn.metrics import accuracy_score\n",
        "print(accuracy_score(yr_train, y_train_predict))\n",
        "print(accuracy_score(y_val, y_val_predict))\n",
        "print(metrics.confusion_matrix(y_val_predict, y_val))\n",
        "print(y_val_predict)\n",
        "print(np.unique(y_val_predict, return_counts=True))"
      ],
      "execution_count": 0,
      "outputs": [
        {
          "output_type": "stream",
          "text": [
            "0.7883440268866483\n",
            "0.023730684326710817\n"
          ],
          "name": "stdout"
        },
        {
          "output_type": "error",
          "ename": "ValueError",
          "evalue": "ignored",
          "traceback": [
            "\u001b[0;31m\u001b[0m",
            "\u001b[0;31mValueError\u001b[0mTraceback (most recent call last)",
            "\u001b[0;32m<ipython-input-45-c0f0602fddc1>\u001b[0m in \u001b[0;36m<module>\u001b[0;34m()\u001b[0m\n\u001b[1;32m      2\u001b[0m \u001b[0;32mprint\u001b[0m\u001b[0;34m(\u001b[0m\u001b[0maccuracy_score\u001b[0m\u001b[0;34m(\u001b[0m\u001b[0myr_train\u001b[0m\u001b[0;34m,\u001b[0m \u001b[0my_train_predict\u001b[0m\u001b[0;34m)\u001b[0m\u001b[0;34m)\u001b[0m\u001b[0;34m\u001b[0m\u001b[0m\n\u001b[1;32m      3\u001b[0m \u001b[0;32mprint\u001b[0m\u001b[0;34m(\u001b[0m\u001b[0maccuracy_score\u001b[0m\u001b[0;34m(\u001b[0m\u001b[0my_val\u001b[0m\u001b[0;34m,\u001b[0m \u001b[0my_val_predict\u001b[0m\u001b[0;34m)\u001b[0m\u001b[0;34m)\u001b[0m\u001b[0;34m\u001b[0m\u001b[0m\n\u001b[0;32m----> 4\u001b[0;31m \u001b[0;32mprint\u001b[0m\u001b[0;34m(\u001b[0m\u001b[0mmetrics\u001b[0m\u001b[0;34m.\u001b[0m\u001b[0mconfusion_matrix\u001b[0m\u001b[0;34m(\u001b[0m\u001b[0my_val_predict\u001b[0m\u001b[0;34m,\u001b[0m \u001b[0my_val\u001b[0m\u001b[0;34m)\u001b[0m\u001b[0;34m)\u001b[0m\u001b[0;34m\u001b[0m\u001b[0m\n\u001b[0m\u001b[1;32m      5\u001b[0m \u001b[0;32mprint\u001b[0m\u001b[0;34m(\u001b[0m\u001b[0my_val_predict\u001b[0m\u001b[0;34m)\u001b[0m\u001b[0;34m\u001b[0m\u001b[0m\n\u001b[1;32m      6\u001b[0m \u001b[0;32mprint\u001b[0m\u001b[0;34m(\u001b[0m\u001b[0mnp\u001b[0m\u001b[0;34m.\u001b[0m\u001b[0munique\u001b[0m\u001b[0;34m(\u001b[0m\u001b[0my_val_predict\u001b[0m\u001b[0;34m,\u001b[0m \u001b[0mreturn_counts\u001b[0m\u001b[0;34m=\u001b[0m\u001b[0mTrue\u001b[0m\u001b[0;34m)\u001b[0m\u001b[0;34m)\u001b[0m\u001b[0;34m\u001b[0m\u001b[0m\n",
            "\u001b[0;32m/usr/local/lib/python2.7/dist-packages/sklearn/metrics/classification.pyc\u001b[0m in \u001b[0;36mconfusion_matrix\u001b[0;34m(y_true, y_pred, labels, sample_weight)\u001b[0m\n\u001b[1;32m    250\u001b[0m     \u001b[0my_type\u001b[0m\u001b[0;34m,\u001b[0m \u001b[0my_true\u001b[0m\u001b[0;34m,\u001b[0m \u001b[0my_pred\u001b[0m \u001b[0;34m=\u001b[0m \u001b[0m_check_targets\u001b[0m\u001b[0;34m(\u001b[0m\u001b[0my_true\u001b[0m\u001b[0;34m,\u001b[0m \u001b[0my_pred\u001b[0m\u001b[0;34m)\u001b[0m\u001b[0;34m\u001b[0m\u001b[0m\n\u001b[1;32m    251\u001b[0m     \u001b[0;32mif\u001b[0m \u001b[0my_type\u001b[0m \u001b[0;32mnot\u001b[0m \u001b[0;32min\u001b[0m \u001b[0;34m(\u001b[0m\u001b[0;34m\"binary\"\u001b[0m\u001b[0;34m,\u001b[0m \u001b[0;34m\"multiclass\"\u001b[0m\u001b[0;34m)\u001b[0m\u001b[0;34m:\u001b[0m\u001b[0;34m\u001b[0m\u001b[0m\n\u001b[0;32m--> 252\u001b[0;31m         \u001b[0;32mraise\u001b[0m \u001b[0mValueError\u001b[0m\u001b[0;34m(\u001b[0m\u001b[0;34m\"%s is not supported\"\u001b[0m \u001b[0;34m%\u001b[0m \u001b[0my_type\u001b[0m\u001b[0;34m)\u001b[0m\u001b[0;34m\u001b[0m\u001b[0m\n\u001b[0m\u001b[1;32m    253\u001b[0m \u001b[0;34m\u001b[0m\u001b[0m\n\u001b[1;32m    254\u001b[0m     \u001b[0;32mif\u001b[0m \u001b[0mlabels\u001b[0m \u001b[0;32mis\u001b[0m \u001b[0mNone\u001b[0m\u001b[0;34m:\u001b[0m\u001b[0;34m\u001b[0m\u001b[0m\n",
            "\u001b[0;31mValueError\u001b[0m: multilabel-indicator is not supported"
          ]
        }
      ]
    },
    {
      "cell_type": "code",
      "metadata": {
        "id": "2SXz6P4FmlQM",
        "colab_type": "code",
        "outputId": "91f1c07d-a680-40f1-9290-5d6391e93b6b",
        "colab": {
          "base_uri": "https://localhost:8080/",
          "height": 124
        }
      },
      "source": [
        "metrics.confusion_matrix(np.argmax(y_val_predict, axis=0), np.argmax(y_val, axis=0))"
      ],
      "execution_count": 0,
      "outputs": [
        {
          "output_type": "execute_result",
          "data": {
            "text/plain": [
              "array([[0, 0, 1, 1, 0, 0],\n",
              "       [0, 0, 0, 0, 0, 0],\n",
              "       [0, 0, 0, 0, 0, 0],\n",
              "       [0, 0, 0, 0, 0, 0],\n",
              "       [0, 1, 0, 0, 0, 0],\n",
              "       [1, 0, 0, 0, 0, 0]])"
            ]
          },
          "metadata": {
            "tags": []
          },
          "execution_count": 46
        }
      ]
    },
    {
      "cell_type": "code",
      "metadata": {
        "id": "0B9Jr1qflKxJ",
        "colab_type": "code",
        "colab": {}
      },
      "source": [
        "test_pred_labels = model.predict(test_data)"
      ],
      "execution_count": 0,
      "outputs": []
    },
    {
      "cell_type": "code",
      "metadata": {
        "id": "oTsGqC42lPin",
        "colab_type": "code",
        "outputId": "64d2a462-010b-4c7f-f38d-0026718cd2b8",
        "colab": {
          "base_uri": "https://localhost:8080/",
          "height": 721
        }
      },
      "source": [
        "metrics.confusion_matrix(np.argmax(test_pred_labels, axis=1), np.argmax(test_labels, axis=1))"
      ],
      "execution_count": 0,
      "outputs": [
        {
          "output_type": "stream",
          "text": [
            "/usr/local/lib/python2.7/dist-packages/numpy/core/fromnumeric.py:52: FutureWarning: 'argmax' is deprecated. Use 'idxmax' instead. The behavior of 'argmax' will be corrected to return the positional maximum in the future. Use 'series.values.argmax' to get the position of the maximum now.\n",
            "  return getattr(obj, method)(*args, **kwds)\n"
          ],
          "name": "stderr"
        },
        {
          "output_type": "error",
          "ename": "TypeError",
          "evalue": "ignored",
          "traceback": [
            "\u001b[0;31m\u001b[0m",
            "\u001b[0;31mTypeError\u001b[0mTraceback (most recent call last)",
            "\u001b[0;32m<ipython-input-48-b9ef7f4bb77a>\u001b[0m in \u001b[0;36m<module>\u001b[0;34m()\u001b[0m\n\u001b[0;32m----> 1\u001b[0;31m \u001b[0mmetrics\u001b[0m\u001b[0;34m.\u001b[0m\u001b[0mconfusion_matrix\u001b[0m\u001b[0;34m(\u001b[0m\u001b[0mnp\u001b[0m\u001b[0;34m.\u001b[0m\u001b[0margmax\u001b[0m\u001b[0;34m(\u001b[0m\u001b[0mtest_pred_labels\u001b[0m\u001b[0;34m,\u001b[0m \u001b[0maxis\u001b[0m\u001b[0;34m=\u001b[0m\u001b[0;36m1\u001b[0m\u001b[0;34m)\u001b[0m\u001b[0;34m,\u001b[0m \u001b[0mnp\u001b[0m\u001b[0;34m.\u001b[0m\u001b[0margmax\u001b[0m\u001b[0;34m(\u001b[0m\u001b[0mtest_labels\u001b[0m\u001b[0;34m,\u001b[0m \u001b[0maxis\u001b[0m\u001b[0;34m=\u001b[0m\u001b[0;36m1\u001b[0m\u001b[0;34m)\u001b[0m\u001b[0;34m)\u001b[0m\u001b[0;34m\u001b[0m\u001b[0m\n\u001b[0m",
            "\u001b[0;32m/usr/local/lib/python2.7/dist-packages/sklearn/metrics/classification.pyc\u001b[0m in \u001b[0;36mconfusion_matrix\u001b[0;34m(y_true, y_pred, labels, sample_weight)\u001b[0m\n\u001b[1;32m    248\u001b[0m \u001b[0;34m\u001b[0m\u001b[0m\n\u001b[1;32m    249\u001b[0m     \"\"\"\n\u001b[0;32m--> 250\u001b[0;31m     \u001b[0my_type\u001b[0m\u001b[0;34m,\u001b[0m \u001b[0my_true\u001b[0m\u001b[0;34m,\u001b[0m \u001b[0my_pred\u001b[0m \u001b[0;34m=\u001b[0m \u001b[0m_check_targets\u001b[0m\u001b[0;34m(\u001b[0m\u001b[0my_true\u001b[0m\u001b[0;34m,\u001b[0m \u001b[0my_pred\u001b[0m\u001b[0;34m)\u001b[0m\u001b[0;34m\u001b[0m\u001b[0m\n\u001b[0m\u001b[1;32m    251\u001b[0m     \u001b[0;32mif\u001b[0m \u001b[0my_type\u001b[0m \u001b[0;32mnot\u001b[0m \u001b[0;32min\u001b[0m \u001b[0;34m(\u001b[0m\u001b[0;34m\"binary\"\u001b[0m\u001b[0;34m,\u001b[0m \u001b[0;34m\"multiclass\"\u001b[0m\u001b[0;34m)\u001b[0m\u001b[0;34m:\u001b[0m\u001b[0;34m\u001b[0m\u001b[0m\n\u001b[1;32m    252\u001b[0m         \u001b[0;32mraise\u001b[0m \u001b[0mValueError\u001b[0m\u001b[0;34m(\u001b[0m\u001b[0;34m\"%s is not supported\"\u001b[0m \u001b[0;34m%\u001b[0m \u001b[0my_type\u001b[0m\u001b[0;34m)\u001b[0m\u001b[0;34m\u001b[0m\u001b[0m\n",
            "\u001b[0;32m/usr/local/lib/python2.7/dist-packages/sklearn/metrics/classification.pyc\u001b[0m in \u001b[0;36m_check_targets\u001b[0;34m(y_true, y_pred)\u001b[0m\n\u001b[1;32m     69\u001b[0m     \u001b[0my_pred\u001b[0m \u001b[0;34m:\u001b[0m \u001b[0marray\u001b[0m \u001b[0;32mor\u001b[0m \u001b[0mindicator\u001b[0m \u001b[0mmatrix\u001b[0m\u001b[0;34m\u001b[0m\u001b[0m\n\u001b[1;32m     70\u001b[0m     \"\"\"\n\u001b[0;32m---> 71\u001b[0;31m     \u001b[0mcheck_consistent_length\u001b[0m\u001b[0;34m(\u001b[0m\u001b[0my_true\u001b[0m\u001b[0;34m,\u001b[0m \u001b[0my_pred\u001b[0m\u001b[0;34m)\u001b[0m\u001b[0;34m\u001b[0m\u001b[0m\n\u001b[0m\u001b[1;32m     72\u001b[0m     \u001b[0mtype_true\u001b[0m \u001b[0;34m=\u001b[0m \u001b[0mtype_of_target\u001b[0m\u001b[0;34m(\u001b[0m\u001b[0my_true\u001b[0m\u001b[0;34m)\u001b[0m\u001b[0;34m\u001b[0m\u001b[0m\n\u001b[1;32m     73\u001b[0m     \u001b[0mtype_pred\u001b[0m \u001b[0;34m=\u001b[0m \u001b[0mtype_of_target\u001b[0m\u001b[0;34m(\u001b[0m\u001b[0my_pred\u001b[0m\u001b[0;34m)\u001b[0m\u001b[0;34m\u001b[0m\u001b[0m\n",
            "\u001b[0;32m/usr/local/lib/python2.7/dist-packages/sklearn/utils/validation.pyc\u001b[0m in \u001b[0;36mcheck_consistent_length\u001b[0;34m(*arrays)\u001b[0m\n\u001b[1;32m    198\u001b[0m     \"\"\"\n\u001b[1;32m    199\u001b[0m \u001b[0;34m\u001b[0m\u001b[0m\n\u001b[0;32m--> 200\u001b[0;31m     \u001b[0mlengths\u001b[0m \u001b[0;34m=\u001b[0m \u001b[0;34m[\u001b[0m\u001b[0m_num_samples\u001b[0m\u001b[0;34m(\u001b[0m\u001b[0mX\u001b[0m\u001b[0;34m)\u001b[0m \u001b[0;32mfor\u001b[0m \u001b[0mX\u001b[0m \u001b[0;32min\u001b[0m \u001b[0marrays\u001b[0m \u001b[0;32mif\u001b[0m \u001b[0mX\u001b[0m \u001b[0;32mis\u001b[0m \u001b[0;32mnot\u001b[0m \u001b[0mNone\u001b[0m\u001b[0;34m]\u001b[0m\u001b[0;34m\u001b[0m\u001b[0m\n\u001b[0m\u001b[1;32m    201\u001b[0m     \u001b[0muniques\u001b[0m \u001b[0;34m=\u001b[0m \u001b[0mnp\u001b[0m\u001b[0;34m.\u001b[0m\u001b[0munique\u001b[0m\u001b[0;34m(\u001b[0m\u001b[0mlengths\u001b[0m\u001b[0;34m)\u001b[0m\u001b[0;34m\u001b[0m\u001b[0m\n\u001b[1;32m    202\u001b[0m     \u001b[0;32mif\u001b[0m \u001b[0mlen\u001b[0m\u001b[0;34m(\u001b[0m\u001b[0muniques\u001b[0m\u001b[0;34m)\u001b[0m \u001b[0;34m>\u001b[0m \u001b[0;36m1\u001b[0m\u001b[0;34m:\u001b[0m\u001b[0;34m\u001b[0m\u001b[0m\n",
            "\u001b[0;32m/usr/local/lib/python2.7/dist-packages/sklearn/utils/validation.pyc\u001b[0m in \u001b[0;36m_num_samples\u001b[0;34m(x)\u001b[0m\n\u001b[1;32m    113\u001b[0m         \u001b[0;32melse\u001b[0m\u001b[0;34m:\u001b[0m\u001b[0;34m\u001b[0m\u001b[0m\n\u001b[1;32m    114\u001b[0m             raise TypeError(\"Expected sequence or array-like, got %s\" %\n\u001b[0;32m--> 115\u001b[0;31m                             type(x))\n\u001b[0m\u001b[1;32m    116\u001b[0m     \u001b[0;32mif\u001b[0m \u001b[0mhasattr\u001b[0m\u001b[0;34m(\u001b[0m\u001b[0mx\u001b[0m\u001b[0;34m,\u001b[0m \u001b[0;34m'shape'\u001b[0m\u001b[0;34m)\u001b[0m\u001b[0;34m:\u001b[0m\u001b[0;34m\u001b[0m\u001b[0m\n\u001b[1;32m    117\u001b[0m         \u001b[0;32mif\u001b[0m \u001b[0mlen\u001b[0m\u001b[0;34m(\u001b[0m\u001b[0mx\u001b[0m\u001b[0;34m.\u001b[0m\u001b[0mshape\u001b[0m\u001b[0;34m)\u001b[0m \u001b[0;34m==\u001b[0m \u001b[0;36m0\u001b[0m\u001b[0;34m:\u001b[0m\u001b[0;34m\u001b[0m\u001b[0m\n",
            "\u001b[0;31mTypeError\u001b[0m: Expected sequence or array-like, got <type 'int'>"
          ]
        }
      ]
    },
    {
      "cell_type": "code",
      "metadata": {
        "id": "pB5P5xAZTV7p",
        "colab_type": "code",
        "outputId": "bcec1f02-57ab-4590-a603-47fbdb997276",
        "colab": {
          "base_uri": "https://localhost:8080/",
          "height": 168
        }
      },
      "source": [
        "np.argmax(pred_labels, axis=1)"
      ],
      "execution_count": 0,
      "outputs": [
        {
          "output_type": "error",
          "ename": "NameError",
          "evalue": "ignored",
          "traceback": [
            "\u001b[0;31m---------------------------------------------------------------------------\u001b[0m",
            "\u001b[0;31mNameError\u001b[0m                                 Traceback (most recent call last)",
            "\u001b[0;32m<ipython-input-154-06a76ac40fe0>\u001b[0m in \u001b[0;36m<module>\u001b[0;34m()\u001b[0m\n\u001b[0;32m----> 1\u001b[0;31m \u001b[0mnp\u001b[0m\u001b[0;34m.\u001b[0m\u001b[0margmax\u001b[0m\u001b[0;34m(\u001b[0m\u001b[0mpred_labels\u001b[0m\u001b[0;34m,\u001b[0m \u001b[0maxis\u001b[0m\u001b[0;34m=\u001b[0m\u001b[0;36m1\u001b[0m\u001b[0;34m)\u001b[0m\u001b[0;34m\u001b[0m\u001b[0m\n\u001b[0m",
            "\u001b[0;31mNameError\u001b[0m: name 'pred_labels' is not defined"
          ]
        }
      ]
    },
    {
      "cell_type": "code",
      "metadata": {
        "id": "AHCg8otjbTd2",
        "colab_type": "code",
        "outputId": "11bd7ca6-bb62-4358-fff9-c992e919e753",
        "colab": {
          "base_uri": "https://localhost:8080/",
          "height": 239
        }
      },
      "source": [
        "y_pred = model.predict_proba(X_val)\n",
        "'''\n",
        "fpr = {}\n",
        "tpr = {}\n",
        "roc_auc = {}\n",
        "for i in range(3):\n",
        "    fpr[i], tpr[i], _ = metrics.roc_curve(val_labels.iloc[:, i], y_pred[:, i])\n",
        "    roc_auc[i] = metrics.auc(fpr[i], tpr[i])\n",
        "    plt.plot(fpr[i], tpr[i], label = str(i))\n",
        "plt.plot([0, 1], [0, 1])\n",
        "plt.xlabel('False Positive Rate')\n",
        "plt.ylabel('True Positive Rate')\n",
        "plt.title('Multi-Class ROC Curve')\n",
        "plt.legend()\n",
        "plt.show()\n",
        "fpr[\"micro\"], tpr[\"micro\"], _ = metrics.roc_curve(val_labels.ravel(), y_pred.ravel())\n",
        "roc_auc = metrics.auc(fpr[\"micro\"], tpr[\"micro\"])\n",
        "print(roc_auc)\n",
        "'''\n",
        "fpr = dict()\n",
        "tpr = dict()\n",
        "roc_auc = dict()\n",
        "for i in range(4):\n",
        "    fpr[i], tpr[i], _ = roc_curve(y_val[:, i], y_pred[:, i])\n",
        "    roc_auc[i] = auc(fpr[i], tpr[i])\n",
        "\n",
        "# Compute micro-average ROC curve and ROC area\n",
        "fpr[\"micro\"], tpr[\"micro\"], _ = roc_curve(y_val.ravel(), y_pred.ravel())\n",
        "roc_auc[\"micro\"] = auc(fpr[\"micro\"], tpr[\"micro\"])\n",
        "\n",
        "print(roc_auc)"
      ],
      "execution_count": 0,
      "outputs": [
        {
          "output_type": "error",
          "ename": "TypeError",
          "evalue": "ignored",
          "traceback": [
            "\u001b[0;31m\u001b[0m",
            "\u001b[0;31mTypeError\u001b[0mTraceback (most recent call last)",
            "\u001b[0;32m<ipython-input-50-135fd7d4d9d6>\u001b[0m in \u001b[0;36m<module>\u001b[0;34m()\u001b[0m\n\u001b[1;32m     22\u001b[0m \u001b[0mroc_auc\u001b[0m \u001b[0;34m=\u001b[0m \u001b[0mdict\u001b[0m\u001b[0;34m(\u001b[0m\u001b[0;34m)\u001b[0m\u001b[0;34m\u001b[0m\u001b[0m\n\u001b[1;32m     23\u001b[0m \u001b[0;32mfor\u001b[0m \u001b[0mi\u001b[0m \u001b[0;32min\u001b[0m \u001b[0mrange\u001b[0m\u001b[0;34m(\u001b[0m\u001b[0;36m4\u001b[0m\u001b[0;34m)\u001b[0m\u001b[0;34m:\u001b[0m\u001b[0;34m\u001b[0m\u001b[0m\n\u001b[0;32m---> 24\u001b[0;31m     \u001b[0mfpr\u001b[0m\u001b[0;34m[\u001b[0m\u001b[0mi\u001b[0m\u001b[0;34m]\u001b[0m\u001b[0;34m,\u001b[0m \u001b[0mtpr\u001b[0m\u001b[0;34m[\u001b[0m\u001b[0mi\u001b[0m\u001b[0;34m]\u001b[0m\u001b[0;34m,\u001b[0m \u001b[0m_\u001b[0m \u001b[0;34m=\u001b[0m \u001b[0mroc_curve\u001b[0m\u001b[0;34m(\u001b[0m\u001b[0my_val\u001b[0m\u001b[0;34m[\u001b[0m\u001b[0;34m:\u001b[0m\u001b[0;34m,\u001b[0m \u001b[0mi\u001b[0m\u001b[0;34m]\u001b[0m\u001b[0;34m,\u001b[0m \u001b[0my_pred\u001b[0m\u001b[0;34m[\u001b[0m\u001b[0;34m:\u001b[0m\u001b[0;34m,\u001b[0m \u001b[0mi\u001b[0m\u001b[0;34m]\u001b[0m\u001b[0;34m)\u001b[0m\u001b[0;34m\u001b[0m\u001b[0m\n\u001b[0m\u001b[1;32m     25\u001b[0m     \u001b[0mroc_auc\u001b[0m\u001b[0;34m[\u001b[0m\u001b[0mi\u001b[0m\u001b[0;34m]\u001b[0m \u001b[0;34m=\u001b[0m \u001b[0mauc\u001b[0m\u001b[0;34m(\u001b[0m\u001b[0mfpr\u001b[0m\u001b[0;34m[\u001b[0m\u001b[0mi\u001b[0m\u001b[0;34m]\u001b[0m\u001b[0;34m,\u001b[0m \u001b[0mtpr\u001b[0m\u001b[0;34m[\u001b[0m\u001b[0mi\u001b[0m\u001b[0;34m]\u001b[0m\u001b[0;34m)\u001b[0m\u001b[0;34m\u001b[0m\u001b[0m\n\u001b[1;32m     26\u001b[0m \u001b[0;34m\u001b[0m\u001b[0m\n",
            "\u001b[0;31mTypeError\u001b[0m: list indices must be integers, not tuple"
          ]
        }
      ]
    },
    {
      "cell_type": "code",
      "metadata": {
        "id": "dJM7-0esCE4A",
        "colab_type": "code",
        "colab": {}
      },
      "source": [
        ""
      ],
      "execution_count": 0,
      "outputs": []
    }
  ]
}